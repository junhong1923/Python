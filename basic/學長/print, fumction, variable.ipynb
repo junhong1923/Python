{
 "cells": [
  {
   "cell_type": "markdown",
   "metadata": {},
   "source": [
    "# print"
   ]
  },
  {
   "cell_type": "code",
   "execution_count": 2,
   "metadata": {},
   "outputs": [
    {
     "name": "stdout",
     "output_type": "stream",
     "text": [
      "Hellow World\n"
     ]
    }
   ],
   "source": [
    "print(\"Hellow\" + \" World\")"
   ]
  },
  {
   "cell_type": "code",
   "execution_count": 4,
   "metadata": {},
   "outputs": [
    {
     "name": "stdout",
     "output_type": "stream",
     "text": [
      "4 = a\n"
     ]
    }
   ],
   "source": [
    "print('%d = %s' %(4,'a'))"
   ]
  },
  {
   "cell_type": "code",
   "execution_count": 5,
   "metadata": {},
   "outputs": [
    {
     "name": "stdout",
     "output_type": "stream",
     "text": [
      "Hi\n",
      "How are you\n",
      "Hi yes\n"
     ]
    }
   ],
   "source": [
    "print('Hi')\n",
    "print('How are you')\n",
    "\n",
    "print('Hi ',end='')\n",
    "print('yes')"
   ]
  },
  {
   "cell_type": "code",
   "execution_count": 7,
   "metadata": {},
   "outputs": [
    {
     "name": "stdout",
     "output_type": "stream",
     "text": [
      "a\tb\tc\td\te\tf\n",
      "a123\tb567\tcfe\td789\te23\tf\n"
     ]
    }
   ],
   "source": [
    "print('a\\tb\\tc\\td\\te\\tf')\n",
    "print('a123\\tb567\\tcfe\\td789\\te23\\tf')"
   ]
  },
  {
   "cell_type": "markdown",
   "metadata": {},
   "source": [
    "# Function"
   ]
  },
  {
   "cell_type": "code",
   "execution_count": 15,
   "metadata": {},
   "outputs": [
    {
     "name": "stdout",
     "output_type": "stream",
     "text": [
      "2 + 5 = 7\n",
      "12\n"
     ]
    }
   ],
   "source": [
    "def myadd():\n",
    "    print('%d + %d = %d' %(2,4,2+4))\n",
    "\n",
    "def myadd2(a,b):\n",
    "    print('%d + %d = %d' %(a, b, a+b))\n",
    "\n",
    "def myadd3(a,b):\n",
    "    return a+b\n",
    "\n",
    "# myadd() control + 左斜--> 註解\n",
    "myadd2(2,5)\n",
    "\n",
    "result=myadd3(3,9)\n",
    "print(result)"
   ]
  },
  {
   "cell_type": "markdown",
   "metadata": {},
   "source": [
    "# 變數操作"
   ]
  },
  {
   "cell_type": "code",
   "execution_count": 27,
   "metadata": {},
   "outputs": [
    {
     "name": "stdout",
     "output_type": "stream",
     "text": [
      "integer_1: 100\n",
      "type: <class 'int'>\n",
      "float_1: 100.0\n",
      "type: <class 'float'>\n",
      "string_1: abavv\n",
      "type: <class 'str'>\n",
      "string_2: b\n",
      "type: <class 'str'>\n"
     ]
    }
   ],
   "source": [
    "integer_1 = 100\n",
    "print('integer_1:' , integer_1)\n",
    "print('type:', type(integer_1))\n",
    "\n",
    "float_1=100.0\n",
    "print('float_1:',float_1)\n",
    "print('type:',type(float_1))\n",
    "\n",
    "string_1='abavv'\n",
    "print('string_1:', string_1)\n",
    "print('type:', type(string_1))\n",
    "\n",
    "string_2=string_1[1]\n",
    "print('string_2:', string_2)\n",
    "print('type:',type(string_2))"
   ]
  },
  {
   "cell_type": "code",
   "execution_count": 28,
   "metadata": {},
   "outputs": [
    {
     "name": "stdout",
     "output_type": "stream",
     "text": [
      "integer_2: 100\n",
      "type: <class 'int'>\n"
     ]
    }
   ],
   "source": [
    "integer_1 = 100\n",
    "\n",
    "integer_2= integer_1\n",
    "print('integer_2:', integer_2)\n",
    "print('type:', type(integer_2))"
   ]
  },
  {
   "cell_type": "markdown",
   "metadata": {},
   "source": [
    "# 變數轉換"
   ]
  },
  {
   "cell_type": "code",
   "execution_count": 29,
   "metadata": {},
   "outputs": [
    {
     "data": {
      "text/plain": [
       "0.0"
      ]
     },
     "execution_count": 29,
     "metadata": {},
     "output_type": "execute_result"
    }
   ],
   "source": [
    "# str可變int ， 但str不能變 str\n",
    "int()\n",
    "str()\n",
    "float()"
   ]
  },
  {
   "cell_type": "code",
   "execution_count": 32,
   "metadata": {},
   "outputs": [
    {
     "name": "stdout",
     "output_type": "stream",
     "text": [
      "10\n"
     ]
    }
   ],
   "source": [
    "b= 10.6\n",
    "c= int(b) # 無條件捨去小數，若有負號也能轉換成負整數\n",
    "print(c)"
   ]
  },
  {
   "cell_type": "code",
   "execution_count": null,
   "metadata": {},
   "outputs": [],
   "source": []
  }
 ],
 "metadata": {
  "kernelspec": {
   "display_name": "Python 3",
   "language": "python",
   "name": "python3"
  },
  "language_info": {
   "codemirror_mode": {
    "name": "ipython",
    "version": 3
   },
   "file_extension": ".py",
   "mimetype": "text/x-python",
   "name": "python",
   "nbconvert_exporter": "python",
   "pygments_lexer": "ipython3",
   "version": "3.7.3"
  }
 },
 "nbformat": 4,
 "nbformat_minor": 2
}
