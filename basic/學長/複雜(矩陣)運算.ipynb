{
 "cells": [
  {
   "cell_type": "markdown",
   "metadata": {},
   "source": [
    "# 三角函數"
   ]
  },
  {
   "cell_type": "code",
   "execution_count": 3,
   "metadata": {},
   "outputs": [
    {
     "name": "stdout",
     "output_type": "stream",
     "text": [
      "pi:  3.141592653589793\n",
      "-----------------------------\n",
      "deg:30 = rad:  0.5235987755982988\n",
      "360 is equal to 6.28 (2*pi)\n",
      "deg 30.00 is equal to rad 0.52\n"
     ]
    }
   ],
   "source": [
    "import math\n",
    "pi=math.pi\n",
    "print('pi: ',pi)\n",
    "print('-----------------------------')\n",
    "#徑度\n",
    "deg=30\n",
    "\n",
    "deg2rad = deg*math.pi / 180  # 角度轉換成徑度的公式\n",
    "\n",
    "print('deg:30 = rad: ', deg2rad) # 30度 是徑度多少?\n",
    "print('%d is equal to %1.2f (2*pi)' %(360, 2*math.pi)) # 360度是多少pi\n",
    "print('deg %1.2f is equal to rad %1.2f' %(deg,deg2rad)) # 30度 是徑度多少(取至小數後兩位)"
   ]
  },
  {
   "cell_type": "markdown",
   "metadata": {},
   "source": [
    "# 實際操作，由角度獲得三角函數值"
   ]
  },
  {
   "cell_type": "code",
   "execution_count": 3,
   "metadata": {},
   "outputs": [
    {
     "name": "stdout",
     "output_type": "stream",
     "text": [
      "-0.9880316240928618\n",
      "0.49999999999999994\n",
      "0.8660254037844387\n",
      "0.5773502691896257\n"
     ]
    }
   ],
   "source": [
    "import math\n",
    "\n",
    "deg=30\n",
    "rad= deg* math.pi / 180\n",
    "\n",
    "a=math.sin(deg)  # 放進去的到底是角度還是徑度?\n",
    "b=math.sin(rad)\n",
    "print(a)\n",
    "print(b)\n",
    "\n",
    "print(math.cos(rad))\n",
    "print(math.tan(rad))"
   ]
  },
  {
   "cell_type": "markdown",
   "metadata": {},
   "source": [
    "# 由三角函數值回推角度"
   ]
  },
  {
   "cell_type": "code",
   "execution_count": 11,
   "metadata": {},
   "outputs": [
    {
     "name": "stdout",
     "output_type": "stream",
     "text": [
      "rad:  0.4636476090008061\n",
      "deg:  26.56505117707799\n"
     ]
    }
   ],
   "source": [
    "import math\n",
    "\n",
    "a=0.5\n",
    "\n",
    "#rad=math.asin(a)\n",
    "#rad=math.acos(a)\n",
    "rad=math.atan(a)\n",
    "print('rad: ',rad)\n",
    "\n",
    "rad2deg=rad * 180/ math.pi # 徑度轉回角度\n",
    "print('deg: ',rad2deg)"
   ]
  },
  {
   "cell_type": "markdown",
   "metadata": {},
   "source": [
    "# 作業1 寫出徑度/度度轉換函數，藉此簡化上述的所有式子\n",
    "## def func_deg2rad(deg):\n",
    "## def func_rad2deg(rad):"
   ]
  },
  {
   "cell_type": "code",
   "execution_count": 27,
   "metadata": {},
   "outputs": [
    {
     "name": "stdout",
     "output_type": "stream",
     "text": [
      "轉換後的徑度為: 0.5235987755982988\n",
      "轉換後的角度為: 30.08028424436822\n"
     ]
    }
   ],
   "source": [
    "# 度度轉徑度\n",
    "def deg2rad(deg):\n",
    "    import math\n",
    "    rad = deg* math.pi / 180\n",
    "    print('轉換後的徑度為:',rad)\n",
    "# 徑度轉度度\n",
    "def rad2deg(rad):\n",
    "    import math\n",
    "    deg=rad * 180 /math.pi\n",
    "    print('轉換後的角度為:', deg)\n",
    "    \n",
    "deg2rad(30)\n",
    "rad2deg(0.525)"
   ]
  },
  {
   "cell_type": "markdown",
   "metadata": {},
   "source": [
    "# 作業2 tan的定義為sin(theta)/cos(theta)\n",
    "# 作業3 tan的分子與分母的正負組合分別如何對應到數學座標中的四個象限呢?  \n",
    "一象限:x>0 & y>0  \n",
    "二象限:x<0 & y>0  \n",
    "三象限:x<0 & y<0  \n",
    "四象限:x>0 & y<0 \n",
    "# 作業4 承上，如何利用輸入分子分母的正負進一步回推對應之tan函數的輸入角度?\n",
    "x>0,y>0 --> 0<角度<90  \n",
    "x<0,y>0 --> 90<角度<180  \n",
    "x<o,y<0 --> 180<角度<270  \n",
    "x>0,y<0 --> 270<角度<360  \n",
    "x=0 --> 角度=90 or 270  \n",
    "y=0 --> 角度=0 or 180"
   ]
  },
  {
   "cell_type": "markdown",
   "metadata": {},
   "source": [
    "# 利用連續數列x來製作y(x)輸出"
   ]
  },
  {
   "cell_type": "code",
   "execution_count": 8,
   "metadata": {},
   "outputs": [
    {
     "name": "stdout",
     "output_type": "stream",
     "text": [
      "[0.0, 0.8660254037844386, 0.8660254037844387, 1.2246467991473532e-16, -0.8660254037844385, -0.8660254037844386]\n"
     ]
    },
    {
     "data": {
      "image/png": "[encoded data removed]",
      "text/plain": [
       "<Figure size 432x288 with 1 Axes>"
      ]
     },
     "metadata": {
      "needs_background": "light"
     },
     "output_type": "display_data"
    }
   ],
   "source": [
    "import math\n",
    "import numpy as np\n",
    "import matplotlib.pyplot as plt\n",
    "x=range(0,360,60)\n",
    "y=[math.sin(deg * math.pi/180) for deg in x]\n",
    "print(y)\n",
    "\n",
    "rad=[ele*math.pi /180 for ele in x]\n",
    "\n",
    "def getsin(rad):\n",
    "    return math.sin(rad)\n",
    "def getcos(rad):\n",
    "    return math.cos(rad)\n",
    "f_sin=np.vectorize(getsin)\n",
    "f_cos=np.vectorize(getcos)\n",
    "y_sin=f_sin(rad)\n",
    "y_cos=f_cos(rad)\n",
    "\n",
    "plt.figure()\n",
    "plt.plot(rad,y_sin,'m', rad,y_cos,'r')  # 'r or b'可任意換成不同形式 o,^,*,m,k...\n",
    "#plt.grid('on') # 顯示表格\n",
    "\n",
    "ax=plt.gca()\n",
    "\n",
    "ax.xaxis.set_ticks_position('bottom')\n",
    "ax.yaxis.set_ticks_position('left')\n",
    "\n",
    "ax.spines['right'].set_color('none') # 把右邊的邊界變成隱形\n",
    "ax.spines['top'].set_color('none')   # 把上邊的邊界變成隱形\n",
    "ax.spines['bottom'].set_position(('data',0)) # 把底邊調到位置0\n",
    "ax.spines['left'].set_position(('data',0)) # 把左邊拉到位置0\n",
    "# ax.spines['right'].set_color('b')\n",
    "# ax.spines['top'].set_color('r')\n",
    "\n",
    "plt.show()"
   ]
  },
  {
   "cell_type": "code",
   "execution_count": 8,
   "metadata": {},
   "outputs": [
    {
     "data": {
      "image/png": "[encoded data removed]",
      "text/plain": [
       "<Figure size 432x288 with 1 Axes>"
      ]
     },
     "metadata": {
      "needs_background": "light"
     },
     "output_type": "display_data"
    }
   ],
   "source": [
    "import numpy as np\n",
    "import math\n",
    "X = np.linspace(-np.pi, np.pi, 260, endpoint=True)\n",
    "\n",
    "# Y座標\n",
    "Cos_y, Sin_y = np.cos(X), np.sin(X)\n",
    "Tan_y = np.tan(X)\n",
    "\n",
    "plt.plot(X, Cos_y, color=\"red\", linewidth=1.0, linestyle=\"-\", label=\"Cos\")\n",
    "plt.plot(X, Sin_y, color=\"green\", linewidth=1.0, linestyle=\"--\", label=\"Sin\")\n",
    "plt.plot(X, Tan_y, color=\"blue\", linewidth=1.0, linestyle=\":\", label=\"Tan\")\n",
    "\n",
    "# 設定 y 座標範圍\n",
    "plt.ylim(-2.0, 2.0)\n",
    "\n",
    "# 設定 x 座標文字\n",
    "plt.xticks([-np.pi, -np.pi/2, 0, np.pi/2, np.pi],\n",
    "          [r'$-\\pi$', r'$-\\pi/2$', r'$0$', r'$+\\pi/2$', r'$+\\pi$'])\n",
    "\n",
    "\n",
    "plt.legend(bbox_to_anchor=(1, 1), loc=1, borderaxespad=0.)\n",
    "\n",
    "plt.show()"
   ]
  },
  {
   "cell_type": "code",
   "execution_count": 6,
   "metadata": {},
   "outputs": [
    {
     "name": "stdout",
     "output_type": "stream",
     "text": [
      "[ 0.00000000e+00  5.00000000e-01  8.66025404e-01  1.00000000e+00\n",
      "  8.66025404e-01  5.00000000e-01  1.22464680e-16 -5.00000000e-01\n",
      " -8.66025404e-01 -1.00000000e+00 -8.66025404e-01 -5.00000000e-01]\n"
     ]
    }
   ],
   "source": [
    "import math\n",
    "import numpy as np\n",
    "\n",
    "def func_GetSin(deg):\n",
    "    return math.sin(deg*math.pi/180)\n",
    "\n",
    "x=range(0,360,30)\n",
    "\n",
    "yy=np.vectorize(func_GetSin)\n",
    "y=yy(x)\n",
    "print(y)"
   ]
  },
  {
   "cell_type": "markdown",
   "metadata": {},
   "source": [
    "# 如何視覺化y=sin(x) --> matplotlib"
   ]
  },
  {
   "cell_type": "code",
   "execution_count": 13,
   "metadata": {},
   "outputs": [
    {
     "data": {
      "image/png": "[encoded data removed]",
      "text/plain": [
       "<Figure size 432x288 with 1 Axes>"
      ]
     },
     "metadata": {
      "needs_background": "light"
     },
     "output_type": "display_data"
    }
   ],
   "source": [
    "import math\n",
    "import numpy as np\n",
    "import matplotlib.pyplot as plt\n",
    "\n",
    "deg=range(0,360,5) # 取樣點太少，圖形不夠平滑\n",
    "rad=[ele*math.pi/180 for ele in deg]\n",
    "# print('deg: ', deg)\n",
    "# print('rad: ',rad)\n",
    "\n",
    "def func_getsin(rad):\n",
    "    return math.sin(rad)\n",
    "def func_getcos(rad):\n",
    "    return math.cos(rad)\n",
    "\n",
    "f_sin=np.vectorize(func_getsin)\n",
    "f_cos=np.vectorize(func_getcos)\n",
    "\n",
    "y_sin=f_sin(rad)\n",
    "y_cos=f_cos(rad)\n",
    "# print('y_sin: ',y_sin)\n",
    "# print('y_cos: ',y_cos)\n",
    "\n",
    "# 畫圖\n",
    "plt.figure()\n",
    "plt.plot(rad,y_sin,'*', rad,y_cos,'r')  # 'r or b'可任意換成不同形式 o,^,*,m,k...\n",
    "#plt.grid('on') # 顯示表格\n",
    "\n",
    "ax=plt.gca()\n",
    "\n",
    "ax.xaxis.set_ticks_position('bottom')\n",
    "ax.yaxis.set_ticks_position('left')\n",
    "\n",
    "ax.spines['right'].set_color('none') # 把右邊的邊界變成隱形\n",
    "ax.spines['top'].set_color('none')   # 把上邊的邊界變成隱形\n",
    "ax.spines['bottom'].set_position(('data',0)) # 把底邊調到位置0\n",
    "ax.spines['left'].set_position(('data',0)) # 把左邊拉到位置0\n",
    "# ax.spines['right'].set_color('b')\n",
    "# ax.spines['top'].set_color('r')\n",
    "\n",
    "plt.show()"
   ]
  },
  {
   "cell_type": "markdown",
   "metadata": {},
   "source": [
    "# 作業5 將x軸座標改以徑度數值表示，間距為0.1"
   ]
  },
  {
   "cell_type": "code",
   "execution_count": 38,
   "metadata": {
    "scrolled": false
   },
   "outputs": [
    {
     "data": {
      "image/png": "[encoded data removed]",
      "text/plain": [
       "<Figure size 432x288 with 1 Axes>"
      ]
     },
     "metadata": {
      "needs_background": "light"
     },
     "output_type": "display_data"
    }
   ],
   "source": [
    "import math\n",
    "import numpy as np\n",
    "import matplotlib.pyplot as plt\n",
    "\n",
    "deg=range(0,360,10)\n",
    "rad=[ele*math.pi/180 for ele in deg]\n",
    "\n",
    "def getsin(rad):\n",
    "    return math.sin(rad)\n",
    "def getcos(rad):\n",
    "    return math.cos(rad)\n",
    "\n",
    "f_sin=np.vectorize(getsin)\n",
    "f_cos=np.vectorize(getcos)\n",
    "y_sin=f_sin(rad)\n",
    "y_cos=f_cos(rad)\n",
    "\n",
    "# 畫圖\n",
    "plt.figure()\n",
    "plt.plot(rad,y_sin,'b', rad,y_cos,'r')\n",
    "\n",
    "ax=plt.gca()\n",
    "#plt.xticks(rad) ??\n",
    "plt.xticks(np.arange(rad[0],rad[-1], step=0.1))\n",
    "plt.tick_params(labelsize=5)\n",
    "# ax.xaxis.set_ticks_position('bottom')\n",
    "# ax.yaxis.set_ticks_position('left')\n",
    "\n",
    "\n",
    "\n",
    "\n",
    "ax.spines['right'].set_color('none')\n",
    "ax.spines['top'].set_color('none')\n",
    "ax.spines['bottom'].set_position(('data',0))\n",
    "ax.spines['left'].set_position(('data',0))\n",
    "\n",
    "# 座標軸到底怎麼設定???  plt.xticks()\n",
    "# help(plt.xticks)\n",
    "\n",
    "plt.show()"
   ]
  },
  {
   "cell_type": "code",
   "execution_count": 67,
   "metadata": {
    "scrolled": false
   },
   "outputs": [
    {
     "name": "stdout",
     "output_type": "stream",
     "text": [
      "Help on function xticks in module matplotlib.pyplot:\n",
      "\n",
      "xticks(ticks=None, labels=None, **kwargs)\n",
      "    Get or set the current tick locations and labels of the x-axis.\n",
      "    \n",
      "    Call signatures::\n",
      "    \n",
      "        locs, labels = xticks()            # Get locations and labels\n",
      "        xticks(ticks, [labels], **kwargs)  # Set locations and labels\n",
      "    \n",
      "    Parameters\n",
      "    ----------\n",
      "    ticks : array_like\n",
      "        A list of positions at which ticks should be placed. You can pass an\n",
      "        empty list to disable xticks.\n",
      "    \n",
      "    labels : array_like, optional\n",
      "        A list of explicit labels to place at the given *locs*.\n",
      "    \n",
      "    **kwargs\n",
      "        :class:`.Text` properties can be used to control the appearance of\n",
      "        the labels.\n",
      "    \n",
      "    Returns\n",
      "    -------\n",
      "    locs\n",
      "        An array of label locations.\n",
      "    labels\n",
      "        A list of `.Text` objects.\n",
      "    \n",
      "    Notes\n",
      "    -----\n",
      "    Calling this function with no arguments (e.g. ``xticks()``) is the pyplot\n",
      "    equivalent of calling `~.Axes.get_xticks` and `~.Axes.get_xticklabels` on\n",
      "    the current axes.\n",
      "    Calling this function with arguments is the pyplot equivalent of calling\n",
      "    `~.Axes.set_xticks` and `~.Axes.set_xticklabels` on the current axes.\n",
      "    \n",
      "    Examples\n",
      "    --------\n",
      "    Get the current locations and labels:\n",
      "    \n",
      "        >>> locs, labels = xticks()\n",
      "    \n",
      "    Set label locations:\n",
      "    \n",
      "        >>> xticks(np.arange(0, 1, step=0.2))\n",
      "    \n",
      "    Set text labels:\n",
      "    \n",
      "        >>> xticks(np.arange(5), ('Tom', 'Dick', 'Harry', 'Sally', 'Sue'))\n",
      "    \n",
      "    Set text labels and properties:\n",
      "    \n",
      "        >>> xticks(np.arange(12), calendar.month_name[1:13], rotation=20)\n",
      "    \n",
      "    Disable xticks:\n",
      "    \n",
      "        >>> xticks([])\n",
      "\n"
     ]
    }
   ],
   "source": [
    "help(plt.xticks)"
   ]
  },
  {
   "cell_type": "markdown",
   "metadata": {},
   "source": [
    "# 3-5 最大值小值、四捨五入、無條件進位、捨去"
   ]
  },
  {
   "cell_type": "code",
   "execution_count": 94,
   "metadata": {},
   "outputs": [
    {
     "name": "stdout",
     "output_type": "stream",
     "text": [
      "round of b: [1.1 3.3 4.2]\n",
      "ceil of b: [2. 4. 5.]\n",
      "floor of b: [1. 3. 4.]\n"
     ]
    }
   ],
   "source": [
    "import numpy as np\n",
    "\n",
    "# a=np.arange(10)\n",
    "# print(a)\n",
    "\n",
    "# a_max=np.max(a)\n",
    "# print('a_max:',a_max)\n",
    "# a_min=np.min(a)\n",
    "# print('a_min:',a_min)\n",
    "\n",
    "b= [1.132, 3.3422, 4.17342]\n",
    "\n",
    "b_round=np.round(b,1) # 四捨五入 至小數第一位\n",
    "print('round of b:',b_round)\n",
    "\n",
    "b_ceil=np.ceil(b) # 無條件進位\n",
    "print('ceil of b:',b_ceil)\n",
    "\n",
    "b_floor=np.floor(b) # 無條件捨去\n",
    "print('floor of b:',b_floor)"
   ]
  },
  {
   "cell_type": "markdown",
   "metadata": {},
   "source": [
    "# 3-6 隨機函數:"
   ]
  },
  {
   "cell_type": "code",
   "execution_count": 26,
   "metadata": {},
   "outputs": [
    {
     "name": "stdout",
     "output_type": "stream",
     "text": [
      "b max: 0.980263016328446\n",
      "b min: -0.9214500240683059\n",
      "[[0.88894311 0.33582114 0.75786854 0.78967521 0.65585743 0.03927499\n",
      "  0.61555061 0.42051167 0.55609144 0.2302798 ]\n",
      " [0.12607387 0.99013151 0.04596175 0.68773525 0.14255535 0.2610474\n",
      "  0.40776504 0.71313823 0.69891629 0.05365727]]\n"
     ]
    }
   ],
   "source": [
    "import numpy as np\n",
    "# 隨機取 0 ~ 1 的 m x n 個數，取越多越接近極值\n",
    "a=np.random.rand(2,10)\n",
    "b=2 * (a-0.5) # -1 ~ +1 \n",
    "# print(b)\n",
    "print('b max:', np.max(b))\n",
    "print('b min:', np.min(b))\n",
    "print(a)"
   ]
  },
  {
   "cell_type": "code",
   "execution_count": 68,
   "metadata": {},
   "outputs": [
    {
     "name": "stdout",
     "output_type": "stream",
     "text": [
      "max: 2.688287075510197\n",
      "min: -3.0950030359200604\n",
      "mean: -0.07157952856751212\n",
      "std: 0.9730850748900259\n"
     ]
    }
   ],
   "source": [
    "# 常態分布\n",
    "a= np.random.randn(500) # 隨機取 n 個數，其平均值為0、標準差為1 ，為常態分布\n",
    "print('max:',np.max(a))\n",
    "print('min:',np.min(a))\n",
    "\n",
    "print('mean:',np.mean(a))\n",
    "print('std:',np.std(a))"
   ]
  },
  {
   "cell_type": "code",
   "execution_count": 11,
   "metadata": {},
   "outputs": [
    {
     "name": "stdout",
     "output_type": "stream",
     "text": [
      "[16 17  9  8 10 10 18 15 18  8]\n"
     ]
    }
   ],
   "source": [
    "# random.randint(i, j, k)  範圍i~j 取 k個正整數\n",
    "import numpy as np\n",
    "a=np.random.randint(8,20,10)\n",
    "print(a)"
   ]
  },
  {
   "cell_type": "code",
   "execution_count": 14,
   "metadata": {},
   "outputs": [
    {
     "name": "stdout",
     "output_type": "stream",
     "text": [
      "[0 1 2 3 4 5 6 7 8 9]\n",
      "[5 7 2 0 9 6 3 4 1 8]\n"
     ]
    }
   ],
   "source": [
    "# 隨機 不重複 亂數\n",
    "import numpy as np\n",
    "a=np.arange(10)\n",
    "print(a)\n",
    "\n",
    "# random.shuffle\n",
    "np.random.shuffle(a)\n",
    "print(a)"
   ]
  },
  {
   "cell_type": "markdown",
   "metadata": {},
   "source": [
    "# 作業6 比較利用rand及randn所建立之隨機變數陣列的平均值(mean)及標準差(std)，以迴圈的方式依序比較變數數量n=10,50,100,200之結果，並以print(\"%())的指令印出結果。\n",
    "hint: n=[10,50,100,200]"
   ]
  },
  {
   "cell_type": "code",
   "execution_count": null,
   "metadata": {},
   "outputs": [],
   "source": []
  },
  {
   "cell_type": "markdown",
   "metadata": {},
   "source": [
    "# 3-7 矩陣"
   ]
  },
  {
   "cell_type": "code",
   "execution_count": 11,
   "metadata": {},
   "outputs": [
    {
     "name": "stdout",
     "output_type": "stream",
     "text": [
      "[[ 0  0  0  0  0  0  0  0  0  0]\n",
      " [ 0  1  2  3  4  5  6  7  8  9]\n",
      " [ 0  2  4  6  8 10 12 14 16 18]\n",
      " [ 0  3  6  9 12 15 18 21 24 27]\n",
      " [ 0  4  8 12 16 20 24 28 32 36]\n",
      " [ 0  5 10 15 20 25 30 35 40 45]\n",
      " [ 0  6 12 18 24 30 36 42 48 54]\n",
      " [ 0  7 14 21 28 35 42 49 56 63]\n",
      " [ 0  8 16 24 32 40 48 56 64 72]\n",
      " [ 0  9 18 27 36 45 54 63 72 81]]\n",
      "---------------------------------\n",
      "[[ 1  2  3  4  5  6  7  8  9]\n",
      " [ 2  4  6  8 10 12 14 16 18]\n",
      " [ 3  6  9 12 15 18 21 24 27]\n",
      " [ 4  8 12 16 20 24 28 32 36]\n",
      " [ 5 10 15 20 25 30 35 40 45]\n",
      " [ 6 12 18 24 30 36 42 48 54]\n",
      " [ 7 14 21 28 35 42 49 56 63]\n",
      " [ 8 16 24 32 40 48 56 64 72]\n",
      " [ 9 18 27 36 45 54 63 72 81]]\n"
     ]
    }
   ],
   "source": [
    "a=np.arange(10)\n",
    "b=np.arange(10)\n",
    "#print(np.multiply(a,b))  #這只是內積而已\n",
    "\n",
    "a=np.reshape(a,(10,-1))\n",
    "b=np.reshape(b,(-1,10))\n",
    "print(np.matmul(a,b)) # 這才是矩陣相乘\n",
    "\n",
    "print('---------------------------------')\n",
    "# 用該方法產生九九乘法表\n",
    "a=np.arange(1,10,1)\n",
    "b=np.arange(1,10,1)\n",
    "a=np.reshape(a,(9,-1))\n",
    "b=np.reshape(b,(-1,9))\n",
    "print(np.matmul(a,b))"
   ]
  },
  {
   "cell_type": "code",
   "execution_count": 66,
   "metadata": {},
   "outputs": [
    {
     "name": "stdout",
     "output_type": "stream",
     "text": [
      "a:\n",
      " [[0.41013617 0.42093243 0.05027835]\n",
      " [0.93425491 0.74713451 0.71001881]\n",
      " [0.76343335 0.63445996 0.76064629]]\n",
      "a_inv:\n",
      " [[ -5.47675532  13.39973542 -12.14585822]\n",
      " [  7.83610547 -12.71661075  11.35224943]\n",
      " [ -1.0393235   -2.84182608   4.03604866]]\n"
     ]
    }
   ],
   "source": [
    "# 反矩陣\n",
    "from numpy.linalg import inv\n",
    "import numpy as np\n",
    "a=np.random.rand(3,3) \n",
    "a_inv=np.linalg.inv(a)\n",
    "print('a:\\n',a)\n",
    "print('a_inv:\\n',a_inv)"
   ]
  }
 ],
 "metadata": {
  "kernelspec": {
   "display_name": "Python 3",
   "language": "python",
   "name": "python3"
  },
  "language_info": {
   "codemirror_mode": {
    "name": "ipython",
    "version": 3
   },
   "file_extension": ".py",
   "mimetype": "text/x-python",
   "name": "python",
   "nbconvert_exporter": "python",
   "pygments_lexer": "ipython3",
   "version": "3.7.3"
  }
 },
 "nbformat": 4,
 "nbformat_minor": 2
}
