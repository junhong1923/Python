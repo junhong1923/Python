{
 "cells": [
  {
   "cell_type": "markdown",
   "metadata": {},
   "source": [
    "在list中新增內容，append vs extend\n",
    "\n",
    "append:將所賦予之添加物整包插入原陣列中\n",
    "\n",
    "extend:將所賦予之陣列逐項插入原陣列中"
   ]
  },
  {
   "cell_type": "code",
   "execution_count": 6,
   "metadata": {},
   "outputs": [
    {
     "name": "stdout",
     "output_type": "stream",
     "text": [
      "原陣列: [1, 2, 3, 4, 5, 6]\n",
      "調整陣列: [1, 2, 3, 4, 5, 6, 14, 3, 2, 1]\n"
     ]
    }
   ],
   "source": [
    "#利用append增加內容\n",
    "# a=[1,2,3,4,5,6]\n",
    "# print('原陣列:', a)\n",
    "# a.append(14)\n",
    "# print('調整陣列:',a)\n",
    "\n",
    "# a.append([1,2,3,2,1])\n",
    "# print('調整陣列:', a)\n",
    "\n",
    "#利用extend增加內容\n",
    "a=[1,2,3,4,5,6]\n",
    "print('原陣列:', a)\n",
    "a.extend([14,3,2,1])\n",
    "print('調整陣列:',a)"
   ]
  },
  {
   "cell_type": "markdown",
   "metadata": {},
   "source": [
    "# 在特定座標插入物件:"
   ]
  },
  {
   "cell_type": "code",
   "execution_count": 10,
   "metadata": {},
   "outputs": [
    {
     "name": "stdout",
     "output_type": "stream",
     "text": [
      "調整陣列: [1, 2, 100, 3, 4, 5, 6]\n",
      "調整矩陣: [1, 2, [100, 199], 100, 3, 4, 5, 6]\n"
     ]
    }
   ],
   "source": [
    "a=[1,2,3,4,5,6]\n",
    "#插入數字:\n",
    "a.insert(2,100)\n",
    "print('調整陣列:',a)\n",
    "#插入矩陣:\n",
    "a.insert(2,[100,199])\n",
    "print('調整矩陣:',a)"
   ]
  },
  {
   "cell_type": "markdown",
   "metadata": {},
   "source": [
    "# remove & del "
   ]
  },
  {
   "cell_type": "code",
   "execution_count": 37,
   "metadata": {},
   "outputs": [
    {
     "name": "stdout",
     "output_type": "stream",
     "text": [
      "remove後的a矩陣: [1, 3, 4, 5, 6]\n",
      "del後的b矩陣: [1, 2, 4, 5, 6]\n"
     ]
    }
   ],
   "source": [
    "a=[1,2,3,4,5,6]\n",
    "a.remove(2) # 針對該list中的元素移除\n",
    "print('remove後的a矩陣:' , a)\n",
    "b=[1,2,3,4,5,6]\n",
    "del b[2] #依照list中的order去刪除\n",
    "print('del後的b矩陣:' , b)"
   ]
  },
  {
   "cell_type": "markdown",
   "metadata": {},
   "source": [
    "# range & numpy"
   ]
  },
  {
   "cell_type": "code",
   "execution_count": 25,
   "metadata": {},
   "outputs": [
    {
     "name": "stdout",
     "output_type": "stream",
     "text": [
      "10\n",
      "15\n",
      "20\n",
      "25\n",
      "30\n",
      "35\n",
      "40\n",
      "45\n",
      "************************\n",
      "[30 25 20 15]\n"
     ]
    }
   ],
   "source": [
    "a= range(10,50,5)\n",
    "for i in a:\n",
    "    print(i)\n",
    "print('************************')\n",
    "\n",
    "import numpy as np\n",
    "a=np.arange(30,10,-5)\n",
    "print(a)"
   ]
  },
  {
   "cell_type": "markdown",
   "metadata": {},
   "source": [
    " # 二維陣列"
   ]
  },
  {
   "cell_type": "code",
   "execution_count": 36,
   "metadata": {},
   "outputs": [
    {
     "name": "stdout",
     "output_type": "stream",
     "text": [
      "原陣列a: [ 0  1  2  3  4  5  6  7  8  9 10 11 12 13 14 15 16 17 18 19]\n",
      "reshape後的a: [[ 0  1  2  3  4]\n",
      " [ 5  6  7  8  9]\n",
      " [10 11 12 13 14]\n",
      " [15 16 17 18 19]]\n",
      "reshape後的b [[10 20 30]\n",
      " [40 50 60]]\n"
     ]
    }
   ],
   "source": [
    "a=np.arange(20)\n",
    "print('原陣列a:', a)\n",
    "a=a.reshape(4,5) #變成4乘5矩陣\n",
    "print('reshape後的a:',a)\n",
    "\n",
    "b=np.arange(10,70,10)\n",
    "b=b.reshape(2,-1) #可以只丟一邊，-1讓電腦去算\n",
    "print('reshape後的b',b)"
   ]
  },
  {
   "cell_type": "code",
   "execution_count": 53,
   "metadata": {},
   "outputs": [
    {
     "name": "stdout",
     "output_type": "stream",
     "text": [
      "[[1 1 1 1 1 1 1 1 1 1]\n",
      " [1 1 1 1 1 1 1 1 1 1]\n",
      " [1 1 1 1 1 1 1 1 1 1]\n",
      " [1 1 1 1 1 1 1 1 1 1]]\n"
     ]
    }
   ],
   "source": [
    "# 大小維4*10，全部為1的矩陣\n",
    "import numpy as np\n",
    "a=np.ones((4,10),dtype=int)\n",
    "print(a,)"
   ]
  },
  {
   "cell_type": "markdown",
   "metadata": {},
   "source": [
    "# 邏輯分析"
   ]
  },
  {
   "cell_type": "code",
   "execution_count": 52,
   "metadata": {},
   "outputs": [
    {
     "name": "stdout",
     "output_type": "stream",
     "text": [
      "True\n",
      "True\n"
     ]
    }
   ],
   "source": [
    "print(1 in range(10))\n",
    "print(1 in np.arange(10))"
   ]
  }
 ],
 "metadata": {
  "kernelspec": {
   "display_name": "Python 3",
   "language": "python",
   "name": "python3"
  },
  "language_info": {
   "codemirror_mode": {
    "name": "ipython",
    "version": 3
   },
   "file_extension": ".py",
   "mimetype": "text/x-python",
   "name": "python",
   "nbconvert_exporter": "python",
   "pygments_lexer": "ipython3",
   "version": "3.7.3"
  }
 },
 "nbformat": 4,
 "nbformat_minor": 2
}
