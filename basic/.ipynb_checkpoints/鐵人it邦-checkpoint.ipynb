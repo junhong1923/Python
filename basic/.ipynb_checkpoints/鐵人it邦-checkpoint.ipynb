{
 "cells": [
  {
   "cell_type": "code",
   "execution_count": null,
   "metadata": {},
   "outputs": [],
   "source": [
    "import SimpleITK as sitk\n",
    "\n",
    "src = r'C:\\Users\\TMU_AIMC\\Desktop\\#8-Heart-CaCT-000031'\n",
    "\n",
    "def getArray(src):\n",
    "    reader = sitk.ImageSeriesReader()\n",
    "    dicom_names = reader.GetGDCMSeriesFileNames(src)\n",
    "    reader.SetF"
   ]
  },
  {
   "cell_type": "code",
   "execution_count": null,
   "metadata": {},
   "outputs": [],
   "source": [
    "import SimpleITK as sitk\n",
    "\n",
    "# A file name that belongs to the series we want to read\n",
    "file_name = '1.dcm'\n",
    "data_directory = '.'\n",
    "\n",
    "# Read the file's meta-information without reading bulk pixel data\n",
    "file_reader = sitk.ImageFileReader()\n",
    "file_reader.SetFileName(file_name)\n",
    "file_reader.ReadImageInformation()\n",
    "\n",
    "# Get the sorted file names, opens all files in the directory and reads the meta-information\n",
    "# without reading the bulk pixel data\n",
    "series_ID = file_reader.GetMetaData('0020|000e')\n",
    "sorted_file_names = sitk.ImageSeriesReader.GetGDCMSeriesFileNames(data_directory, series_ID)\n",
    "\n",
    "# Read the bulk pixel data\n",
    "img = sitk.ReadImage(sorted_file_names)\n"
   ]
  },
  {
   "cell_type": "code",
   "execution_count": 2,
   "metadata": {},
   "outputs": [],
   "source": [
    "import SimpleITK as sitk\n",
    "\n",
    "path = r'D:\\Radiomics_latest\\TMUH_Lung_Raw\\SHHTMUH\\300104035\\S30'\n",
    "reader = sitk.ImageSeriesReader()\n",
    "dicom_names = reader.GetGDCMSeriesFileNames(path)\n",
    "reader.SetFileNames(dicom_names)\n",
    "# reader.GetMetaData(0, '0010|0010')\n",
    "image = reader.Execute()\n",
    "image_array = sitk.GetArrayFromImage(image) # z, y, x\n",
    "origin = image.GetOrigin() # x, y, z\n",
    "spacing = image.GetSpacing() # x, y, z"
   ]
  },
  {
   "cell_type": "code",
   "execution_count": 3,
   "metadata": {},
   "outputs": [
    {
     "name": "stdout",
     "output_type": "stream",
     "text": [
      "(-140.10000610351562, -122.5, -238.75)\n"
     ]
    }
   ],
   "source": [
    "print(origin)"
   ]
  },
  {
   "cell_type": "code",
   "execution_count": 4,
   "metadata": {},
   "outputs": [
    {
     "name": "stdout",
     "output_type": "stream",
     "text": [
      "(0.537109, 0.537109, 5.0)\n"
     ]
    }
   ],
   "source": [
    "print(spacing)"
   ]
  },
  {
   "cell_type": "code",
   "execution_count": 5,
   "metadata": {},
   "outputs": [
    {
     "name": "stdout",
     "output_type": "stream",
     "text": [
      "(53, 512, 512)\n"
     ]
    }
   ],
   "source": [
    "print(image_array.shape)"
   ]
  },
  {
   "cell_type": "code",
   "execution_count": 6,
   "metadata": {},
   "outputs": [
    {
     "name": "stdout",
     "output_type": "stream",
     "text": [
      "Modern Web\n",
      "54\n",
      "這是一個叫做 Ironmen 的類別\n"
     ]
    }
   ],
   "source": [
    "class Ironmen:\n",
    "    '''這是一個叫做 Ironmen 的類別''' # Doc string\n",
    "    def __init__(self, group, participants):\n",
    "        self.group = group\n",
    "        self.participants = participants\n",
    "\n",
    "# 根據 Ironmen 類別建立一個物件 modern_web\n",
    "modern_web = Ironmen(\"Modern Web\", 54)\n",
    "\n",
    "# 印出 modern_web 的兩個屬性\n",
    "print(modern_web.group)\n",
    "print(modern_web.participants)\n",
    "\n",
    "# 印出 modern_web 的類別 doc string\n",
    "print(modern_web.__doc__)"
   ]
  },
  {
   "cell_type": "code",
   "execution_count": 30,
   "metadata": {},
   "outputs": [
    {
     "name": "stdout",
     "output_type": "stream",
     "text": [
      "1\n",
      "(6,)\n",
      "int32\n"
     ]
    }
   ],
   "source": [
    "ironmen = [56, 8, 19, 14, 6, 71]\n",
    "ironmen_array = np.array(ironmen)\n",
    "\n",
    "print(ironmen_array.ndim) # number of dimensions\n",
    "print(ironmen_array.shape) # m*n\n",
    "print(ironmen_array.dtype) # 資料類型"
   ]
  },
  {
   "cell_type": "code",
   "execution_count": 8,
   "metadata": {},
   "outputs": [
    {
     "name": "stdout",
     "output_type": "stream",
     "text": [
      "[[[6.95257185e-310 6.95257185e-310]\n",
      "  [0.00000000e+000 9.95216026e-312]\n",
      "  [9.95378865e-312 4.94065646e-324]\n",
      "  [0.00000000e+000 0.00000000e+000]\n",
      "  [4.04738577e-320 0.00000000e+000]\n",
      "  [1.23022346e-321 9.95391810e-312]]\n",
      "\n",
      " [[1.49122313e-312 8.90100844e-307]\n",
      "  [0.00000000e+000 4.90391720e+252]\n",
      "  [8.37170571e-144 5.91850359e-085]\n",
      "  [5.89321262e+294 7.41098469e-323]\n",
      "  [6.40953623e-315 0.00000000e+000]\n",
      "  [4.94065646e-324             nan]]]\n"
     ]
    }
   ],
   "source": [
    "import numpy as np\n",
    "print(np.empty((2, 6, 2)))"
   ]
  },
  {
   "cell_type": "code",
   "execution_count": 12,
   "metadata": {},
   "outputs": [
    {
     "name": "stdout",
     "output_type": "stream",
     "text": [
      "<U2\n",
      "---\n",
      "int64\n"
     ]
    }
   ],
   "source": [
    "ironmen = [\"56\", \"8\", \"19\", \"14\", \"6\", \"71\"]\n",
    "ironmen_str_array = np.array(ironmen)\n",
    "\n",
    "print(ironmen_str_array.dtype)\n",
    "print(\"---\") # 分隔線\n",
    "\n",
    "# 轉換為 int64\n",
    "ironmen_int_array = ironmen_str_array.astype(np.int64)\n",
    "print(ironmen_int_array.dtype)"
   ]
  },
  {
   "cell_type": "code",
   "execution_count": 14,
   "metadata": {},
   "outputs": [
    {
     "name": "stdout",
     "output_type": "stream",
     "text": [
      "[0 1 2 3 4 5 6 7 8 9]\n",
      "0\n",
      "[0 1 2 3 4]\n",
      "---\n",
      "[[0 1 2 3 4]\n",
      " [5 6 7 8 9]]\n",
      "---\n",
      "[5 6 7 8 9]\n",
      "[1 6]\n",
      "6\n"
     ]
    }
   ],
   "source": [
    "import numpy as np\n",
    "\n",
    "my_array = np.arange(10)\n",
    "print(my_array)\n",
    "print(my_array[0])\n",
    "print(my_array[0:5])\n",
    "print(\"---\") # 分隔線\n",
    "\n",
    "my_2d_array = np.array([np.arange(0, 5), np.arange(5, 10)])\n",
    "print(my_2d_array)\n",
    "print(\"---\") # 分隔線\n",
    "print(my_2d_array[1, :]) # 第二列\n",
    "print(my_2d_array[:, 1]) # 第二欄\n",
    "print(my_2d_array[1, 1]) # 第二列第二欄的元素"
   ]
  },
  {
   "cell_type": "code",
   "execution_count": 18,
   "metadata": {},
   "outputs": [
    {
     "name": "stdout",
     "output_type": "stream",
     "text": [
      "[ True False  True  True False  True]\n",
      "['Modern Web' 'Cloud' 'Big Data' '自我挑戰組']\n",
      "[ True  True  True  True  True False]\n",
      "[56  8 19 14  6]\n"
     ]
    }
   ],
   "source": [
    "import numpy as np\n",
    "\n",
    "ironmen = [56, 8, 19, 14, 6, 71]\n",
    "groups = [\"Modern Web\", \"DevOps\", \"Cloud\", \"Big Data\", \"Security\", \"自我挑戰組\"]\n",
    "ironmen_array = np.array(ironmen)\n",
    "groups_array = np.array(groups)\n",
    "\n",
    "# 用人數去篩選組別\n",
    "print(ironmen_array >= 10) # 布林值陣列\n",
    "print(groups_array[ironmen_array >= 10]) # 鐵人數大於 10 的組別\n",
    "\n",
    "# 用組別去篩選人數\n",
    "print(groups_array != \"自我挑戰組\") # 布林值陣列\n",
    "print(ironmen_array[groups_array != \"自我挑戰組\"]) # 除了自我挑戰組以外的鐵人數"
   ]
  },
  {
   "cell_type": "code",
   "execution_count": 22,
   "metadata": {},
   "outputs": [
    {
     "name": "stdout",
     "output_type": "stream",
     "text": [
      "[[0 1 2 3 4]\n",
      " [5 6 7 8 9]]\n",
      "---\n",
      "[[0 5]\n",
      " [1 6]\n",
      " [2 7]\n",
      " [3 8]\n",
      " [4 9]]\n"
     ]
    }
   ],
   "source": [
    "import numpy as np\n",
    "\n",
    "# 建立一個 2d array\n",
    "my_1d_array = np.arange(10)\n",
    "my_2d_array = my_1d_array.reshape((2, 5))\n",
    "print(my_2d_array)\n",
    "print(\"---\") # 分隔線\n",
    "print(my_2d_array.T)"
   ]
  },
  {
   "cell_type": "code",
   "execution_count": 29,
   "metadata": {},
   "outputs": [
    {
     "name": "stdout",
     "output_type": "stream",
     "text": [
      "[56.  8. 19. 14.  6. nan]\n"
     ]
    },
    {
     "data": {
      "text/plain": [
       "array(['56.0', '8.0', '19.0', '14.0', '6.0', 'hello'], dtype='<U32')"
      ]
     },
     "execution_count": 29,
     "metadata": {},
     "output_type": "execute_result"
    }
   ],
   "source": [
    "import numpy as np\n",
    "\n",
    "ironmen_array = np.array([56, 8, 19, 14, 6, np.nan])\n",
    "\n",
    "print(ironmen_array)\n",
    "# 把 nan換成 71\n",
    "np.where(np.isnan(ironmen_array), 'hello', ironmen_array)"
   ]
  },
  {
   "cell_type": "code",
   "execution_count": 26,
   "metadata": {},
   "outputs": [
    {
     "name": "stdout",
     "output_type": "stream",
     "text": [
      "[-0.65231221 -0.6634739   0.76736785 -0.64577143  2.21146827 -0.36987494\n",
      " -0.59711973  1.26252452  0.77736416 -0.59514643]\n",
      "---\n",
      "[0.03258778 0.04160368 0.71467082 0.94505642 0.6766913  0.31758778\n",
      " 0.68672291 0.23351761 0.41242178 0.55836983]\n"
     ]
    }
   ],
   "source": [
    "import numpy as np\n",
    "\n",
    "normal_samples = np.random.normal(size = 10) # 生成 10 組標準常態分配（平均值為 0，標準差為 1 的常態分配）隨機變數\n",
    "uniform_samples = np.random.uniform(size = 10) # 生成 10 組介於 0 與 1 之間均勻分配隨機變數\n",
    "\n",
    "print(normal_samples)\n",
    "print(\"---\") # 分隔線\n",
    "print(uniform_samples)"
   ]
  },
  {
   "cell_type": "code",
   "execution_count": 31,
   "metadata": {},
   "outputs": [
    {
     "name": "stdout",
     "output_type": "stream",
     "text": [
      "(2448832297382707, 281474976710656)\n",
      "False\n",
      "0x1.1666666666666p+3\n",
      "8.7\n"
     ]
    }
   ],
   "source": [
    "my_float = 8.7\n",
    "print(my_float.as_integer_ratio())\n",
    "print(my_float.is_integer())\n",
    "print(my_float.hex())\n",
    "print(float.fromhex(\"0x1.1666666666666p+3\"))"
   ]
  },
  {
   "cell_type": "code",
   "execution_count": 32,
   "metadata": {},
   "outputs": [
    {
     "name": "stdout",
     "output_type": "stream",
     "text": [
      "7\n",
      "b'\\x00W'\n",
      "87\n",
      "---\n",
      "b'\\x00\\x00\\x00\\x00\\x00\\x00\\x00\\x00\\x00W'\n",
      "87\n"
     ]
    }
   ],
   "source": [
    "my_int = 87\n",
    "print(my_int.bit_length())\n",
    "print(my_int.to_bytes(length = 2, byteorder = \"big\"))\n",
    "print(int.from_bytes(b'\\x00W', byteorder = \"big\"))\n",
    "print(\"---\")\n",
    "print(my_int.to_bytes(length = 10, byteorder = \"big\"))\n",
    "print(int.from_bytes(b'\\x00\\x00\\x00\\x00\\x00\\x00\\x00\\x00\\x00W', byteorder = \"big\"))"
   ]
  },
  {
   "cell_type": "code",
   "execution_count": 34,
   "metadata": {},
   "outputs": [
    {
     "name": "stdout",
     "output_type": "stream",
     "text": [
      "8.0\n",
      "-7.0\n",
      "(8+7j)\n"
     ]
    }
   ],
   "source": [
    "my_complex = 8 - 7j\n",
    "print(my_complex.real)\n",
    "print(my_complex.imag)\n",
    "print(my_complex.conjugate())"
   ]
  },
  {
   "cell_type": "code",
   "execution_count": 35,
   "metadata": {},
   "outputs": [
    {
     "name": "stdout",
     "output_type": "stream",
     "text": [
      "True\n",
      "False\n",
      "9\n",
      "3\n",
      "It's the 2017 ithelp ironman contest\n",
      "It's the 2017 ithelp ironman contest!!!\n",
      "It'S The 2017 Ithelp Ironman Contest!!!\n",
      "IT'S THE 2017 ITHELP IRONMAN CONTEST!!!\n",
      "it's the 2017 ithelp ironman contest!!!\n",
      "iT'S THE 2017 ITHELP IRONMAN CONTEST!!!\n",
      "It's the 2017 ithelp ironman competition!!!\n"
     ]
    }
   ],
   "source": [
    "my_str = \"It's the 2017 ithelp ironman contest!!!\"\n",
    "\n",
    "print(my_str.startswith(\"It's\")) # True\n",
    "print(my_str.endswith(\"contest??\")) # False\n",
    "print(my_str.find(\"2017\")) # 9\n",
    "print(my_str.count(\"!\")) # 3\n",
    "print(my_str.strip(\"!\")) # It's the 2017 ithelp ironman contest\n",
    "print(my_str.capitalize()) # It's the 2017 ithelp ironman contest!!!\n",
    "print(my_str.title()) # It'S The 2017 Ithelp Ironman Contest!!!\n",
    "print(my_str.upper()) # IT'S THE 2017 ITHELP IRONMAN CONTEST!!!\n",
    "print(my_str.lower()) # it's the 2017 ithelp ironman contest!!!\n",
    "print(my_str.swapcase()) # iT'S THE 2017 ITHELP IRONMAN CONTEST!!!\n",
    "print(my_str.replace(\"contest\", \"competition\")) # It's the 2017 ithelp ironman competition!!!"
   ]
  },
  {
   "cell_type": "code",
   "execution_count": 40,
   "metadata": {},
   "outputs": [
    {
     "name": "stdout",
     "output_type": "stream",
     "text": [
      "[56, 8, 18, 14, 6, 66]\n",
      "[56, 8, 18, 14, 6]\n",
      "[56, 8, 18, 14, 6]\n",
      "0\n",
      "2\n",
      "[6, 8, 14, 18, 56, 66]\n",
      "[66, 56, 18, 14, 8, 6]\n"
     ]
    }
   ],
   "source": [
    "ironmen = [56, 8, 18, 14, 6]\n",
    "\n",
    "ironmen.append(66)\n",
    "print(ironmen)\n",
    "ironmen.pop()\n",
    "print(ironmen)\n",
    "ironmen.insert(5, 66)\n",
    "ironmen.remove(66)\n",
    "print(ironmen)\n",
    "print(ironmen.index(56))\n",
    "ironmen.append(66)\n",
    "ironmen.append(66)\n",
    "print(ironmen.count(66))\n",
    "ironmen.pop()\n",
    "ironmen.sort()\n",
    "print(ironmen)\n",
    "ironmen.reverse()\n",
    "print(ironmen)"
   ]
  },
  {
   "cell_type": "code",
   "execution_count": 49,
   "metadata": {},
   "outputs": [
    {
     "name": "stdout",
     "output_type": "stream",
     "text": [
      "56\n",
      "dict_keys(['Modern Web', 'DevOps', 'Cloud', 'Big Data', 'Security', '自我挑戰組'])\n",
      "dict_values([56, 8, 18, 14, 6, 66])\n"
     ]
    },
    {
     "data": {
      "text/plain": [
       "dict_items([('Modern Web', 56), ('DevOps', 8), ('Cloud', 18), ('Big Data', 14), ('Security', 6), ('自我挑戰組', 66)])"
      ]
     },
     "execution_count": 49,
     "metadata": {},
     "output_type": "execute_result"
    }
   ],
   "source": [
    "ironmen_dict = {\"Modern Web\": 56,\n",
    "                \"DevOps\": 8,\n",
    "                \"Cloud\": 18,\n",
    "                \"Big Data\": 14,\n",
    "                \"Security\": 6,\n",
    "                \"自我挑戰組\": 66\n",
    "                }\n",
    "\n",
    "print(ironmen_dict.get(\"Modern Web\"))\n",
    "print(ironmen_dict.keys())\n",
    "\n",
    "print(ironmen_dict.values())\n",
    "\n",
    "ironmen_dict.items()"
   ]
  },
  {
   "cell_type": "code",
   "execution_count": 50,
   "metadata": {
    "scrolled": true
   },
   "outputs": [
    {
     "data": {
      "text/plain": [
       "['__class__',\n",
       " '__contains__',\n",
       " '__delattr__',\n",
       " '__delitem__',\n",
       " '__dir__',\n",
       " '__doc__',\n",
       " '__eq__',\n",
       " '__format__',\n",
       " '__ge__',\n",
       " '__getattribute__',\n",
       " '__getitem__',\n",
       " '__gt__',\n",
       " '__hash__',\n",
       " '__init__',\n",
       " '__init_subclass__',\n",
       " '__iter__',\n",
       " '__le__',\n",
       " '__len__',\n",
       " '__lt__',\n",
       " '__ne__',\n",
       " '__new__',\n",
       " '__reduce__',\n",
       " '__reduce_ex__',\n",
       " '__repr__',\n",
       " '__setattr__',\n",
       " '__setitem__',\n",
       " '__sizeof__',\n",
       " '__str__',\n",
       " '__subclasshook__',\n",
       " 'clear',\n",
       " 'copy',\n",
       " 'fromkeys',\n",
       " 'get',\n",
       " 'items',\n",
       " 'keys',\n",
       " 'pop',\n",
       " 'popitem',\n",
       " 'setdefault',\n",
       " 'update',\n",
       " 'values']"
      ]
     },
     "execution_count": 50,
     "metadata": {},
     "output_type": "execute_result"
    }
   ],
   "source": [
    "ironmen_dict = {\"Modern Web\": 56,\n",
    "                \"DevOps\": 8,\n",
    "                \"Cloud\": 18,\n",
    "                \"Big Data\": 14,\n",
    "                \"Security\": 6,\n",
    "                \"自我挑戰組\": 66\n",
    "                }\n",
    "\n",
    "ironmen_dict."
   ]
  },
  {
   "cell_type": "code",
   "execution_count": 55,
   "metadata": {},
   "outputs": [
    {
     "data": {
      "text/plain": [
       "'C:\\\\Users\\\\TMU_AIMC\\\\Desktop\\\\james'"
      ]
     },
     "execution_count": 55,
     "metadata": {},
     "output_type": "execute_result"
    }
   ],
   "source": [
    "import os\n",
    "os.getcwd()"
   ]
  },
  {
   "cell_type": "markdown",
   "metadata": {},
   "source": [
    "# pandas屬性及方法"
   ]
  },
  {
   "cell_type": "code",
   "execution_count": 60,
   "metadata": {
    "scrolled": true
   },
   "outputs": [
    {
     "name": "stdout",
     "output_type": "stream",
     "text": [
      "       groups  ironmen\n",
      "0  Modern Web       59\n",
      "1      DevOps        9\n",
      "2       Cloud       19\n",
      "3    Big Data       14\n",
      "4    Security        6\n",
      "5       自我挑戰組       77\n",
      "---\n",
      "0    Modern Web\n",
      "1        DevOps\n",
      "2         Cloud\n",
      "3      Big Data\n",
      "4      Security\n",
      "5         自我挑戰組\n",
      "Name: groups, dtype: object\n",
      "---\n",
      "groups     Modern Web\n",
      "ironmen            59\n",
      "Name: 0, dtype: object\n",
      "---\n",
      "Modern Web\n"
     ]
    },
    {
     "name": "stderr",
     "output_type": "stream",
     "text": [
      "C:\\Users\\TMU_AIMC\\Anaconda3\\lib\\site-packages\\ipykernel_launcher.py:17: FutureWarning: \n",
      ".ix is deprecated. Please use\n",
      ".loc for label based indexing or\n",
      ".iloc for positional indexing\n",
      "\n",
      "See the documentation here:\n",
      "http://pandas.pydata.org/pandas-docs/stable/user_guide/indexing.html#ix-indexer-is-deprecated\n",
      "C:\\Users\\TMU_AIMC\\Anaconda3\\lib\\site-packages\\ipykernel_launcher.py:21: FutureWarning: \n",
      ".ix is deprecated. Please use\n",
      ".loc for label based indexing or\n",
      ".iloc for positional indexing\n",
      "\n",
      "See the documentation here:\n",
      "http://pandas.pydata.org/pandas-docs/stable/user_guide/indexing.html#ix-indexer-is-deprecated\n",
      "C:\\Users\\TMU_AIMC\\Anaconda3\\lib\\site-packages\\ipykernel_launcher.py:25: FutureWarning: \n",
      ".ix is deprecated. Please use\n",
      ".loc for label based indexing or\n",
      ".iloc for positional indexing\n",
      "\n",
      "See the documentation here:\n",
      "http://pandas.pydata.org/pandas-docs/stable/user_guide/indexing.html#ix-indexer-is-deprecated\n"
     ]
    }
   ],
   "source": [
    "import pandas as pd\n",
    "\n",
    "groups = [\"Modern Web\", \"DevOps\", \"Cloud\", \"Big Data\", \"Security\", \"自我挑戰組\"]\n",
    "ironmen = [59, 9, 19, 14, 6, 77]\n",
    "\n",
    "ironmen_dict = {\n",
    "                \"groups\": groups,\n",
    "                \"ironmen\": ironmen\n",
    "}\n",
    "\n",
    "# 建立 data frame\n",
    "ironmen_df = pd.DataFrame(ironmen_dict)\n",
    "print(ironmen_df)\n",
    "print(\"---\") # 分隔線\n",
    "\n",
    "# 選擇欄位\n",
    "print(ironmen_df.ix[:, \"groups\"])\n",
    "print(\"---\") # 分隔線\n",
    "\n",
    "# 選擇觀測值\n",
    "print(ironmen_df.ix[0])\n",
    "print(\"---\") # 分隔線\n",
    "\n",
    "# 同時選擇欄位與觀測值\n",
    "print(ironmen_df.ix[0, \"groups\"])"
   ]
  },
  {
   "cell_type": "code",
   "execution_count": 64,
   "metadata": {},
   "outputs": [
    {
     "data": {
      "text/html": [
       "<div>\n",
       "<style scoped>\n",
       "    .dataframe tbody tr th:only-of-type {\n",
       "        vertical-align: middle;\n",
       "    }\n",
       "\n",
       "    .dataframe tbody tr th {\n",
       "        vertical-align: top;\n",
       "    }\n",
       "\n",
       "    .dataframe thead th {\n",
       "        text-align: right;\n",
       "    }\n",
       "</style>\n",
       "<table border=\"1\" class=\"dataframe\">\n",
       "  <thead>\n",
       "    <tr style=\"text-align: right;\">\n",
       "      <th></th>\n",
       "      <th>groups</th>\n",
       "      <th>ironmen</th>\n",
       "    </tr>\n",
       "  </thead>\n",
       "  <tbody>\n",
       "    <tr>\n",
       "      <td>0</td>\n",
       "      <td>Modern Web</td>\n",
       "      <td>59</td>\n",
       "    </tr>\n",
       "    <tr>\n",
       "      <td>2</td>\n",
       "      <td>Cloud</td>\n",
       "      <td>19</td>\n",
       "    </tr>\n",
       "    <tr>\n",
       "      <td>5</td>\n",
       "      <td>自我挑戰組</td>\n",
       "      <td>77</td>\n",
       "    </tr>\n",
       "  </tbody>\n",
       "</table>\n",
       "</div>"
      ],
      "text/plain": [
       "       groups  ironmen\n",
       "0  Modern Web       59\n",
       "2       Cloud       19\n",
       "5       自我挑戰組       77"
      ]
     },
     "execution_count": 64,
     "metadata": {},
     "output_type": "execute_result"
    }
   ],
   "source": [
    "import pandas as pd\n",
    "\n",
    "groups = [\"Modern Web\", \"DevOps\", \"Cloud\", \"Big Data\", \"Security\", \"自我挑戰組\"]\n",
    "ironmen = [59, 9, 19, 14, 6, 77]\n",
    "\n",
    "ironmen_dict = {\n",
    "                \"groups\": groups,\n",
    "                \"ironmen\": ironmen\n",
    "}\n",
    "\n",
    "# 建立 data frame\n",
    "ironmen_df = pd.DataFrame(ironmen_dict)\n",
    "\n",
    "filter = ironmen_df[\"ironmen\"] > 15 # 參賽人數大於 10\n",
    "ironmen_df[filter] # 篩選 data frame"
   ]
  },
  {
   "cell_type": "code",
   "execution_count": 71,
   "metadata": {},
   "outputs": [
    {
     "name": "stdout",
     "output_type": "stream",
     "text": [
      "            ironmen\n",
      "Modern Web       59\n",
      "DevOps            9\n",
      "Cloud            19\n",
      "Big Data         14\n",
      "Security          6\n",
      "自我挑戰組            77\n"
     ]
    },
    {
     "data": {
      "text/html": [
       "<div>\n",
       "<style scoped>\n",
       "    .dataframe tbody tr th:only-of-type {\n",
       "        vertical-align: middle;\n",
       "    }\n",
       "\n",
       "    .dataframe tbody tr th {\n",
       "        vertical-align: top;\n",
       "    }\n",
       "\n",
       "    .dataframe thead th {\n",
       "        text-align: right;\n",
       "    }\n",
       "</style>\n",
       "<table border=\"1\" class=\"dataframe\">\n",
       "  <thead>\n",
       "    <tr style=\"text-align: right;\">\n",
       "      <th></th>\n",
       "      <th>ironmen</th>\n",
       "    </tr>\n",
       "  </thead>\n",
       "  <tbody>\n",
       "    <tr>\n",
       "      <td>Big Data</td>\n",
       "      <td>14</td>\n",
       "    </tr>\n",
       "    <tr>\n",
       "      <td>Cloud</td>\n",
       "      <td>19</td>\n",
       "    </tr>\n",
       "    <tr>\n",
       "      <td>DevOps</td>\n",
       "      <td>9</td>\n",
       "    </tr>\n",
       "    <tr>\n",
       "      <td>Modern Web</td>\n",
       "      <td>59</td>\n",
       "    </tr>\n",
       "    <tr>\n",
       "      <td>Security</td>\n",
       "      <td>6</td>\n",
       "    </tr>\n",
       "    <tr>\n",
       "      <td>自我挑戰組</td>\n",
       "      <td>77</td>\n",
       "    </tr>\n",
       "  </tbody>\n",
       "</table>\n",
       "</div>"
      ],
      "text/plain": [
       "            ironmen\n",
       "Big Data         14\n",
       "Cloud            19\n",
       "DevOps            9\n",
       "Modern Web       59\n",
       "Security          6\n",
       "自我挑戰組            77"
      ]
     },
     "execution_count": 71,
     "metadata": {},
     "output_type": "execute_result"
    }
   ],
   "source": [
    "import pandas as pd\n",
    "\n",
    "groups = [\"Modern Web\", \"DevOps\", \"Cloud\", \"Big Data\", \"Security\", \"自我挑戰組\"]\n",
    "ironmen = [59, 9, 19, 14, 6, 77]\n",
    "\n",
    "# 建立 data frame\n",
    "ironmen_df = pd.DataFrame(ironmen, columns = [\"ironmen\"], index = groups)\n",
    "print(ironmen_df)\n",
    "# 用索引值排序\n",
    "ironmen_df.sort_index()"
   ]
  },
  {
   "cell_type": "code",
   "execution_count": 73,
   "metadata": {},
   "outputs": [
    {
     "name": "stdout",
     "output_type": "stream",
     "text": [
      "ironmen    184\n",
      "dtype: int64\n",
      "---\n",
      "ironmen    30.666667\n",
      "dtype: float64\n",
      "---\n",
      "ironmen    16.5\n",
      "dtype: float64\n",
      "---\n",
      "         ironmen\n",
      "count   6.000000\n",
      "mean   30.666667\n",
      "std    29.803803\n",
      "min     6.000000\n",
      "25%    10.250000\n",
      "50%    16.500000\n",
      "75%    49.000000\n",
      "max    77.000000\n"
     ]
    },
    {
     "data": {
      "text/html": [
       "<div>\n",
       "<style scoped>\n",
       "    .dataframe tbody tr th:only-of-type {\n",
       "        vertical-align: middle;\n",
       "    }\n",
       "\n",
       "    .dataframe tbody tr th {\n",
       "        vertical-align: top;\n",
       "    }\n",
       "\n",
       "    .dataframe thead th {\n",
       "        text-align: right;\n",
       "    }\n",
       "</style>\n",
       "<table border=\"1\" class=\"dataframe\">\n",
       "  <thead>\n",
       "    <tr style=\"text-align: right;\">\n",
       "      <th></th>\n",
       "      <th>ironmen</th>\n",
       "    </tr>\n",
       "  </thead>\n",
       "  <tbody>\n",
       "    <tr>\n",
       "      <td>Security</td>\n",
       "      <td>6</td>\n",
       "    </tr>\n",
       "    <tr>\n",
       "      <td>DevOps</td>\n",
       "      <td>9</td>\n",
       "    </tr>\n",
       "    <tr>\n",
       "      <td>Big Data</td>\n",
       "      <td>14</td>\n",
       "    </tr>\n",
       "    <tr>\n",
       "      <td>Cloud</td>\n",
       "      <td>19</td>\n",
       "    </tr>\n",
       "    <tr>\n",
       "      <td>Modern Web</td>\n",
       "      <td>59</td>\n",
       "    </tr>\n",
       "    <tr>\n",
       "      <td>自我挑戰組</td>\n",
       "      <td>77</td>\n",
       "    </tr>\n",
       "  </tbody>\n",
       "</table>\n",
       "</div>"
      ],
      "text/plain": [
       "            ironmen\n",
       "Security          6\n",
       "DevOps            9\n",
       "Big Data         14\n",
       "Cloud            19\n",
       "Modern Web       59\n",
       "自我挑戰組            77"
      ]
     },
     "execution_count": 73,
     "metadata": {},
     "output_type": "execute_result"
    }
   ],
   "source": [
    "print(ironmen_df.sum()) # 計算總鐵人數\n",
    "print(\"---\") # 分隔線\n",
    "print(ironmen_df.mean()) # 計算平均鐵人數\n",
    "print(\"---\") # 分隔線\n",
    "print(ironmen_df.median()) # 計算中位數\n",
    "print(\"---\") # 分隔線\n",
    "print(ironmen_df.describe()) # 描述統計\n",
    "# 用數值排序\n",
    "ironmen_df.sort_values(by = \"ironmen\")"
   ]
  },
  {
   "cell_type": "code",
   "execution_count": 80,
   "metadata": {},
   "outputs": [
    {
     "name": "stdout",
     "output_type": "stream",
     "text": [
      "          gender\n",
      "蒙其·D·魯夫     Male\n",
      "羅羅亞·索隆      Male\n",
      "娜美        Female\n",
      "騙人布         Male\n",
      "文斯莫克·香吉士    Male\n",
      "多尼多尼·喬巴     Male\n",
      "妮可·羅賓     Female\n",
      "佛朗基         Male\n",
      "布魯克         Male\n"
     ]
    },
    {
     "data": {
      "text/plain": [
       "Male      7\n",
       "Female    2\n",
       "Name: gender, dtype: int64"
      ]
     },
     "execution_count": 80,
     "metadata": {},
     "output_type": "execute_result"
    }
   ],
   "source": [
    "import pandas as pd\n",
    "\n",
    "gender = [\"Male\", \"Male\", \"Female\", \"Male\", \"Male\", \"Male\", \"Female\", \"Male\", \"Male\"]\n",
    "name = [\"蒙其·D·魯夫\", \"羅羅亞·索隆\", \"娜美\", \"騙人布\", \"文斯莫克·香吉士\", \"多尼多尼·喬巴\", \"妮可·羅賓\", \"佛朗基\", \"布魯克\"]\n",
    "\n",
    "# 建立 data frame\n",
    "ironmen_df = pd.DataFrame(gender, columns = [\"gender\"], index = name)\n",
    "print(ironmen_df)\n",
    "# 計算男女各有幾個觀測值\n",
    "pd.value_counts(ironmen_df.gender)"
   ]
  },
  {
   "cell_type": "code",
   "execution_count": 85,
   "metadata": {},
   "outputs": [
    {
     "name": "stdout",
     "output_type": "stream",
     "text": [
      "Raw DF:\n",
      "        groups  ironmen\n",
      "0  Modern Web     59.0\n",
      "1      DevOps      9.0\n",
      "2         NaN     19.0\n",
      "3    Big Data     14.0\n",
      "4    Security      6.0\n",
      "5       自我挑戰組      NaN\n",
      "---\n",
      "0    False\n",
      "1    False\n",
      "2     True\n",
      "3    False\n",
      "4    False\n",
      "5    False\n",
      "Name: groups, dtype: bool\n",
      "---\n",
      "0     True\n",
      "1     True\n",
      "2     True\n",
      "3     True\n",
      "4     True\n",
      "5    False\n",
      "Name: ironmen, dtype: bool\n"
     ]
    },
    {
     "name": "stderr",
     "output_type": "stream",
     "text": [
      "C:\\Users\\TMU_AIMC\\Anaconda3\\lib\\site-packages\\ipykernel_launcher.py:18: FutureWarning: \n",
      ".ix is deprecated. Please use\n",
      ".loc for label based indexing or\n",
      ".iloc for positional indexing\n",
      "\n",
      "See the documentation here:\n",
      "http://pandas.pydata.org/pandas-docs/stable/user_guide/indexing.html#ix-indexer-is-deprecated\n",
      "C:\\Users\\TMU_AIMC\\Anaconda3\\lib\\site-packages\\ipykernel_launcher.py:20: FutureWarning: \n",
      ".ix is deprecated. Please use\n",
      ".loc for label based indexing or\n",
      ".iloc for positional indexing\n",
      "\n",
      "See the documentation here:\n",
      "http://pandas.pydata.org/pandas-docs/stable/user_guide/indexing.html#ix-indexer-is-deprecated\n"
     ]
    }
   ],
   "source": [
    "import numpy as np\n",
    "import pandas as pd\n",
    "\n",
    "groups = [\"Modern Web\", \"DevOps\", np.nan, \"Big Data\", \"Security\", \"自我挑戰組\"]\n",
    "ironmen = [59, 9, 19, 14, 6, np.nan]\n",
    "\n",
    "ironmen_dict = {\n",
    "                \"groups\": groups,\n",
    "                \"ironmen\": ironmen\n",
    "}\n",
    "\n",
    "# 建立 data frame\n",
    "ironmen_df = pd.DataFrame(ironmen_dict)\n",
    "print('Raw DF:\\n',ironmen_df)\n",
    "print(\"---\")\n",
    "\n",
    "\n",
    "print(ironmen_df.ix[:, \"groups\"].isnull()) # 判斷哪些組的組名是遺失值\n",
    "print(\"---\") # 分隔線\n",
    "print(ironmen_df.ix[:, \"ironmen\"].notnull()) # 判斷哪些組的鐵人數不是遺失值"
   ]
  },
  {
   "cell_type": "code",
   "execution_count": 86,
   "metadata": {},
   "outputs": [
    {
     "name": "stdout",
     "output_type": "stream",
     "text": [
      "       groups  ironmen\n",
      "0  Modern Web     59.0\n",
      "1      DevOps      9.0\n",
      "3    Big Data     14.0\n",
      "4    Security      6.0\n",
      "---\n",
      "       groups  ironmen\n",
      "0  Modern Web     59.0\n",
      "1      DevOps      9.0\n",
      "2           0     19.0\n",
      "3    Big Data     14.0\n",
      "4    Security      6.0\n",
      "5       自我挑戰組      0.0\n",
      "---\n",
      "       groups  ironmen\n",
      "0  Modern Web     59.0\n",
      "1      DevOps      9.0\n",
      "2       Cloud     19.0\n",
      "3    Big Data     14.0\n",
      "4    Security      6.0\n",
      "5       自我挑戰組     71.0\n"
     ]
    }
   ],
   "source": [
    "import numpy as np\n",
    "import pandas as pd\n",
    "\n",
    "groups = [\"Modern Web\", \"DevOps\", np.nan, \"Big Data\", \"Security\", \"自我挑戰組\"]\n",
    "ironmen = [59, 9, 19, 14, 6, np.nan]\n",
    "\n",
    "ironmen_dict = {\n",
    "                \"groups\": groups,\n",
    "                \"ironmen\": ironmen\n",
    "}\n",
    "\n",
    "# 建立 data frame\n",
    "ironmen_df = pd.DataFrame(ironmen_dict)\n",
    "\n",
    "ironmen_df_na_dropped = ironmen_df.dropna() # 有遺失值的觀測值都刪除\n",
    "print(ironmen_df_na_dropped)\n",
    "print(\"---\") # 分隔線\n",
    "ironmen_df_na_filled = ironmen_df.fillna(0) # 有遺失值的觀測值填補 0\n",
    "print(ironmen_df_na_filled)\n",
    "print(\"---\") # 分隔線\n",
    "ironmen_df_na_filled = ironmen_df.fillna({\"groups\": \"Cloud\", \"ironmen\": 71}) # 依欄位填補遺失值\n",
    "print(ironmen_df_na_filled)"
   ]
  },
  {
   "cell_type": "code",
   "execution_count": null,
   "metadata": {},
   "outputs": [],
   "source": []
  }
 ],
 "metadata": {
  "kernelspec": {
   "display_name": "Python 3",
   "language": "python",
   "name": "python3"
  },
  "language_info": {
   "codemirror_mode": {
    "name": "ipython",
    "version": 3
   },
   "file_extension": ".py",
   "mimetype": "text/x-python",
   "name": "python",
   "nbconvert_exporter": "python",
   "pygments_lexer": "ipython3",
   "version": "3.7.3"
  }
 },
 "nbformat": 4,
 "nbformat_minor": 2
}
