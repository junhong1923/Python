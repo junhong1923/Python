{
 "cells": [
  {
   "cell_type": "markdown",
   "metadata": {},
   "source": [
    "# list相關用法  https://blog.csdn.net/ywx1832990/article/details/78928238"
   ]
  },
  {
   "cell_type": "code",
   "execution_count": 2,
   "metadata": {},
   "outputs": [
    {
     "name": "stdout",
     "output_type": "stream",
     "text": [
      "[5, 4, 3, 2, 1]\n"
     ]
    },
    {
     "data": {
      "text/plain": [
       "[1, 2, 3, 4, 5]"
      ]
     },
     "execution_count": 2,
     "metadata": {},
     "output_type": "execute_result"
    }
   ],
   "source": [
    "# reverse\n",
    "num=[1,2,3,4,5]\n",
    "num.reverse()\n",
    "print(num)\n",
    "\n",
    "list(reversed(num)) #不返回列表，而是一個迭代器"
   ]
  },
  {
   "cell_type": "code",
   "execution_count": 17,
   "metadata": {},
   "outputs": [
    {
     "name": "stdout",
     "output_type": "stream",
     "text": [
      "None\n",
      "[1, 2, 3, 4, 5, 7, 8]\n",
      "-----------------------------\n",
      "新的list n [1, 2, 3, 4, 5, 7, 8]\n",
      "原本的list num2 被保留了 [5, 8, 1, 4, 2, 7, 3]\n",
      "-----------------------------\n",
      "[1, 2, 3, 4, 5, 7, 8]\n",
      "[5, 8, 1, 4, 2, 7, 3]\n"
     ]
    }
   ],
   "source": [
    "# sort\n",
    "num1=[5,8,1,4,2,7,3]\n",
    "n=num1.sort()\n",
    "print(n)\n",
    "print(num1) # 原本的list已被改變\n",
    "\n",
    "print('-----------------------------')\n",
    "\n",
    "num2=[5,8,1,4,2,7,3]\n",
    "n=num2[:]\n",
    "n.sort()\n",
    "print('新的list n' ,n)\n",
    "print('原本的list num2 被保留了',num2) # 原本的list被保留了\n",
    "\n",
    "print('-----------------------------')\n",
    "num3=[5,8,1,4,2,7,3]\n",
    "n=sorted(num3)\n",
    "print(n)\n",
    "print(num3)"
   ]
  },
  {
   "cell_type": "code",
   "execution_count": 24,
   "metadata": {},
   "outputs": [
    {
     "name": "stdout",
     "output_type": "stream",
     "text": [
      "list2:  ['hello', 'world', 'python', 'is', 'funny']\n",
      "list3:  ['hello', 'world', 'python', 'is', 'funny']\n",
      "list1:  ['hello', 'world', 'python', 'is', 'funny', 123456798]\n",
      "跟著變動的list4:  ['hello', 'world', 'python', 'is', 'funny', 123456798]\n"
     ]
    }
   ],
   "source": [
    "# copy\n",
    "list1=['hello', 'world', 'python', 'is', 'funny']\n",
    "list2=list1.copy()\n",
    "list3=list1[:]\n",
    "list4=list1\n",
    "list1.append(123456798)\n",
    "\n",
    "print('list2: ',list2)\n",
    "print('list3: ',list3)\n",
    "print('list1: ',list1)\n",
    "print('跟著變動的list4: ',list4)"
   ]
  }
 ],
 "metadata": {
  "kernelspec": {
   "display_name": "Python 3",
   "language": "python",
   "name": "python3"
  },
  "language_info": {
   "codemirror_mode": {
    "name": "ipython",
    "version": 3
   },
   "file_extension": ".py",
   "mimetype": "text/x-python",
   "name": "python",
   "nbconvert_exporter": "python",
   "pygments_lexer": "ipython3",
   "version": "3.7.3"
  }
 },
 "nbformat": 4,
 "nbformat_minor": 2
}
