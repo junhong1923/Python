{
 "cells": [
  {
   "cell_type": "markdown",
   "metadata": {},
   "source": [
    "# Q1 請造一個10*5的矩陣空間，並按由下而上 、由左至右、按順序0~49填滿他"
   ]
  },
  {
   "cell_type": "code",
   "execution_count": 9,
   "metadata": {},
   "outputs": [
    {
     "name": "stdout",
     "output_type": "stream",
     "text": [
      "[[ 0  1  2  3  4]\n",
      " [ 5  6  7  8  9]\n",
      " [10 11 12 13 14]\n",
      " [15 16 17 18 19]\n",
      " [20 21 22 23 24]\n",
      " [25 26 27 28 29]\n",
      " [30 31 32 33 34]\n",
      " [35 36 37 38 39]\n",
      " [40 41 42 43 44]\n",
      " [45 46 47 48 49]]\n"
     ]
    }
   ],
   "source": [
    "import numpy as np\n",
    "\n",
    "a=np.arange(0,50,1)\n",
    "b=a.reshape(10,5)\n",
    "print(b)"
   ]
  },
  {
   "cell_type": "code",
   "execution_count": 16,
   "metadata": {},
   "outputs": [
    {
     "name": "stdout",
     "output_type": "stream",
     "text": [
      "[ 0 10 20 30 40]\n",
      "[ 1 11 21 31 41]\n",
      "[ 2 12 22 32 42]\n",
      "[ 3 13 23 33 43]\n",
      "[ 4 14 24 34 44]\n",
      "[ 5 15 25 35 45]\n",
      "[ 6 16 26 36 46]\n",
      "[ 7 17 27 37 47]\n",
      "[ 8 18 28 38 48]\n",
      "[ 9 19 29 39 49]\n",
      "********************\n",
      "[[ 0 10 20 30 40]\n",
      " [ 1 11 21 31 41]\n",
      " [ 2 12 22 32 42]\n",
      " [ 3 13 23 33 43]\n",
      " [ 4 14 24 34 44]\n",
      " [ 5 15 25 35 45]\n",
      " [ 6 16 26 36 46]\n",
      " [ 7 17 27 37 47]\n",
      " [ 8 18 28 38 48]\n",
      " [ 9 19 29 39 49]]\n"
     ]
    }
   ],
   "source": [
    "for i in range(10):\n",
    "    a=np.arange(i,50,10)\n",
    "    print(a)\n",
    "    \n",
    "print('********************')\n",
    "\n",
    "b=np.arange(50)\n",
    "c=b.reshape(5,10)\n",
    "print(c.T)"
   ]
  },
  {
   "cell_type": "markdown",
   "metadata": {},
   "source": [
    "# Q2 九九乘法表 for & while"
   ]
  },
  {
   "cell_type": "code",
   "execution_count": 46,
   "metadata": {},
   "outputs": [
    {
     "name": "stdout",
     "output_type": "stream",
     "text": [
      "1x1=1 \t2x1=2 \t3x1=3 \t4x1=4 \t5x1=5 \t6x1=6 \t7x1=7 \t8x1=8 \t9x1=9 \t\n",
      "1x2=2 \t2x2=4 \t3x2=6 \t4x2=8 \t5x2=10 \t6x2=12 \t7x2=14 \t8x2=16 \t9x2=18 \t\n",
      "1x3=3 \t2x3=6 \t3x3=9 \t4x3=12 \t5x3=15 \t6x3=18 \t7x3=21 \t8x3=24 \t9x3=27 \t\n",
      "1x4=4 \t2x4=8 \t3x4=12 \t4x4=16 \t5x4=20 \t6x4=24 \t7x4=28 \t8x4=32 \t9x4=36 \t\n",
      "1x5=5 \t2x5=10 \t3x5=15 \t4x5=20 \t5x5=25 \t6x5=30 \t7x5=35 \t8x5=40 \t9x5=45 \t\n",
      "1x6=6 \t2x6=12 \t3x6=18 \t4x6=24 \t5x6=30 \t6x6=36 \t7x6=42 \t8x6=48 \t9x6=54 \t\n",
      "1x7=7 \t2x7=14 \t3x7=21 \t4x7=28 \t5x7=35 \t6x7=42 \t7x7=49 \t8x7=56 \t9x7=63 \t\n",
      "1x8=8 \t2x8=16 \t3x8=24 \t4x8=32 \t5x8=40 \t6x8=48 \t7x8=56 \t8x8=64 \t9x8=72 \t\n",
      "1x9=9 \t2x9=18 \t3x9=27 \t4x9=36 \t5x9=45 \t6x9=54 \t7x9=63 \t8x9=72 \t9x9=81 \t\n"
     ]
    }
   ],
   "source": [
    "for i in range(1,10):\n",
    "    for j in range(1,10):\n",
    "        print('%dx%d=%d \\t' %(j,i, i*j),end='')\n",
    "    print('')"
   ]
  },
  {
   "cell_type": "code",
   "execution_count": 53,
   "metadata": {},
   "outputs": [
    {
     "name": "stdout",
     "output_type": "stream",
     "text": [
      "1x1=1 \t2x1=2 \t3x1=3 \t4x1=4 \t5x1=5 \t6x1=6 \t7x1=7 \t8x1=8 \t9x1=9 \t\n",
      "1x2=2 \t2x2=4 \t3x2=6 \t4x2=8 \t5x2=10 \t6x2=12 \t7x2=14 \t8x2=16 \t9x2=18 \t\n",
      "1x3=3 \t2x3=6 \t3x3=9 \t4x3=12 \t5x3=15 \t6x3=18 \t7x3=21 \t8x3=24 \t9x3=27 \t\n",
      "1x4=4 \t2x4=8 \t3x4=12 \t4x4=16 \t5x4=20 \t6x4=24 \t7x4=28 \t8x4=32 \t9x4=36 \t\n",
      "1x5=5 \t2x5=10 \t3x5=15 \t4x5=20 \t5x5=25 \t6x5=30 \t7x5=35 \t8x5=40 \t9x5=45 \t\n",
      "1x6=6 \t2x6=12 \t3x6=18 \t4x6=24 \t5x6=30 \t6x6=36 \t7x6=42 \t8x6=48 \t9x6=54 \t\n",
      "1x7=7 \t2x7=14 \t3x7=21 \t4x7=28 \t5x7=35 \t6x7=42 \t7x7=49 \t8x7=56 \t9x7=63 \t\n",
      "1x8=8 \t2x8=16 \t3x8=24 \t4x8=32 \t5x8=40 \t6x8=48 \t7x8=56 \t8x8=64 \t9x8=72 \t\n",
      "1x9=9 \t2x9=18 \t3x9=27 \t4x9=36 \t5x9=45 \t6x9=54 \t7x9=63 \t8x9=72 \t9x9=81 \t\n"
     ]
    }
   ],
   "source": [
    "i=1\n",
    "while i<10:\n",
    "    j=1\n",
    "    while j<10:\n",
    "        print('%dx%d=%d \\t' % (j,i,i*j), end='')\n",
    "        j+=1\n",
    "    i+=1\n",
    "    print()"
   ]
  },
  {
   "cell_type": "code",
   "execution_count": 56,
   "metadata": {},
   "outputs": [
    {
     "name": "stdout",
     "output_type": "stream",
     "text": [
      "                                       hello world\n",
      "                                       ***********\n"
     ]
    }
   ],
   "source": [
    "a = \"hello world\"\n",
    "b = \"***********\"\n",
    "print(a.rjust(50))\n",
    "print(b.rjust(50))"
   ]
  },
  {
   "cell_type": "markdown",
   "metadata": {},
   "source": [
    "# 畫菱形"
   ]
  },
  {
   "cell_type": "code",
   "execution_count": 13,
   "metadata": {},
   "outputs": [
    {
     "name": "stdout",
     "output_type": "stream",
     "text": [
      "      *\n",
      "     ***\n",
      "    *****\n",
      "   *******\n",
      "  *********\n",
      " ***********\n",
      "*************\n",
      " ***********\n",
      "  *********\n",
      "   *******\n",
      "    *****\n",
      "     ***\n",
      "      *\n"
     ]
    }
   ],
   "source": [
    "a=' '\n",
    "b='*'\n",
    "for i in range(1,8):\n",
    "     x=(7-i)*a\n",
    "     y=(2*i-1)*b\n",
    "     print(x+y)\n",
    "for j in range(6,0,-1):\n",
    "     x=(2*j-1)*b\n",
    "     y= (7-j)*a\n",
    "     print(y+x)"
   ]
  },
  {
   "cell_type": "code",
   "execution_count": 12,
   "metadata": {},
   "outputs": [
    {
     "name": "stdout",
     "output_type": "stream",
     "text": [
      "how many layers u want\n",
      "5\n",
      "                        *                         \n",
      "                       ***                        \n",
      "                      *****                       \n",
      "                     *******                      \n",
      "                   ***********                    \n",
      "                    *********                     \n",
      "                     *******                      \n",
      "                      *****                       \n",
      "                       ***                        \n",
      "                        *                         \n"
     ]
    }
   ],
   "source": [
    "s='*'\n",
    "print('how many layers u want')\n",
    "rows=int(input())\n",
    "\n",
    "for i in range(1,rows*2+1,2):\n",
    "    print((s*i).center(50))\n",
    "for j in range((rows-1)*2-1,0,-2):\n",
    "    print((s*j).center(50))"
   ]
  },
  {
   "cell_type": "code",
   "execution_count": 6,
   "metadata": {},
   "outputs": [
    {
     "name": "stdout",
     "output_type": "stream",
     "text": [
      "layers12\n",
      "                                  *                                   \n",
      "0\n",
      "                                 ***                                  \n",
      "1\n",
      "                                *****                                 \n",
      "2\n",
      "                               *******                                \n",
      "3\n",
      "                              *********                               \n",
      "4\n",
      "                             ***********                              \n",
      "5\n",
      "                            *************                             \n",
      "6\n",
      "                             ***********                              \n",
      "7\n",
      "                              *********                               \n",
      "8\n",
      "                               *******                                \n",
      "9\n",
      "                                *****                                 \n",
      "10\n",
      "                                 ***                                  \n",
      "11\n"
     ]
    }
   ],
   "source": [
    "rows=int(input('layers'))\n",
    "col=1\n",
    "\n",
    "for i in range(0rows+1):\n",
    "    print(('*'*col).center(70))\n",
    "    if rows/2 < i+1:\n",
    "        space=-2\n",
    "    else:\n",
    "        space=2\n",
    "    col+=space\n",
    "    print(i)"
   ]
  },
  {
   "cell_type": "code",
   "execution_count": null,
   "metadata": {},
   "outputs": [],
   "source": []
  }
 ],
 "metadata": {
  "kernelspec": {
   "display_name": "Python 3",
   "language": "python",
   "name": "python3"
  },
  "language_info": {
   "codemirror_mode": {
    "name": "ipython",
    "version": 3
   },
   "file_extension": ".py",
   "mimetype": "text/x-python",
   "name": "python",
   "nbconvert_exporter": "python",
   "pygments_lexer": "ipython3",
   "version": "3.7.3"
  }
 },
 "nbformat": 4,
 "nbformat_minor": 2
}
