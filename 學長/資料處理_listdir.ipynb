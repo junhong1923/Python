{
 "cells": [
  {
   "cell_type": "markdown",
   "metadata": {},
   "source": [
    "# 資料存取\n",
    "1. listdir, glob\n",
    "2. 絕對路徑 vs 相對路徑\n",
    "3. 建立檔案/ 資料夾\n",
    "4. 移除檔案/ 資料夾"
   ]
  },
  {
   "cell_type": "code",
   "execution_count": 3,
   "metadata": {
    "scrolled": true
   },
   "outputs": [
    {
     "name": "stdout",
     "output_type": "stream",
     "text": [
      "['.ipynb_checkpoints', '.vscode', '20191111', '20191112', 'dcm轉檔', 'list相關用法.ipynb', 'moocs', 'wifi.txt', '學長', '彭彭', '政大moocs.ipynb', '政大數據分析.ipynb']\n",
      "-------------------------------------\n",
      ".ipynb_checkpoints\n",
      ".vscode\n",
      "20191111\n",
      "20191112\n",
      "dcm轉檔\n",
      "list相關用法.ipynb\n",
      "moocs\n",
      "wifi.txt\n",
      "學長\n",
      "彭彭\n",
      "政大moocs.ipynb\n",
      "政大數據分析.ipynb\n",
      "--------------------------------------\n",
      "['C:\\\\Users\\\\TMU_AIMC\\\\Desktop\\\\james\\\\20191111', 'C:\\\\Users\\\\TMU_AIMC\\\\Desktop\\\\james\\\\20191112', 'C:\\\\Users\\\\TMU_AIMC\\\\Desktop\\\\james\\\\dcm轉檔', 'C:\\\\Users\\\\TMU_AIMC\\\\Desktop\\\\james\\\\list相關用法.ipynb', 'C:\\\\Users\\\\TMU_AIMC\\\\Desktop\\\\james\\\\moocs', 'C:\\\\Users\\\\TMU_AIMC\\\\Desktop\\\\james\\\\wifi.txt', 'C:\\\\Users\\\\TMU_AIMC\\\\Desktop\\\\james\\\\學長', 'C:\\\\Users\\\\TMU_AIMC\\\\Desktop\\\\james\\\\彭彭', 'C:\\\\Users\\\\TMU_AIMC\\\\Desktop\\\\james\\\\政大moocs.ipynb', 'C:\\\\Users\\\\TMU_AIMC\\\\Desktop\\\\james\\\\政大數據分析.ipynb']\n"
     ]
    }
   ],
   "source": [
    "import os\n",
    "import glob\n",
    "\n",
    "path_src='C:\\\\Users\\\\TMU_AIMC\\\\Desktop\\\\james'\n",
    "case_ls=os.listdir(path_src)\n",
    "\n",
    "print(case_ls)  # list出資料夾內的檔案\n",
    "print('-------------------------------------')\n",
    "# 一個個檔案列出來\n",
    "for ele in case_ls:\n",
    "    print(ele)\n",
    "print('--------------------------------------')    \n",
    "case_ls=glob.glob(path_src+'\\\\*') # 把資料夾內的檔案之 絕對路徑 裝到list中\n",
    "print(case_ls)"
   ]
  },
  {
   "cell_type": "markdown",
   "metadata": {},
   "source": [
    "# listdir若要篩選資料，可配合if函數"
   ]
  },
  {
   "cell_type": "code",
   "execution_count": 16,
   "metadata": {},
   "outputs": [
    {
     "name": "stdout",
     "output_type": "stream",
     "text": [
      ".ipynb_checkpoints\n",
      "list相關用法.ipynb\n",
      "政大moocs.ipynb\n",
      "政大數據分析.ipynb\n"
     ]
    }
   ],
   "source": [
    "path_src='C:\\\\Users\\\\TMU_AIMC\\\\Desktop\\\\james'\n",
    "case_ls=os.listdir(path_src)\n",
    "\n",
    "for ele in case_ls:\n",
    "    if 'ipynb' in ele:\n",
    "        print(ele)"
   ]
  },
  {
   "cell_type": "markdown",
   "metadata": {},
   "source": [
    "# glob 直接內含篩選指令"
   ]
  },
  {
   "cell_type": "code",
   "execution_count": 8,
   "metadata": {
    "scrolled": true
   },
   "outputs": [
    {
     "name": "stdout",
     "output_type": "stream",
     "text": [
      "C:\\Users\\TMU_AIMC\\Desktop\\james\\*.ipynb\n",
      "----------------------------\n",
      "['C:\\\\Users\\\\TMU_AIMC\\\\Desktop\\\\james\\\\list相關用法.ipynb', 'C:\\\\Users\\\\TMU_AIMC\\\\Desktop\\\\james\\\\政大moocs.ipynb', 'C:\\\\Users\\\\TMU_AIMC\\\\Desktop\\\\james\\\\政大數據分析.ipynb']\n",
      "----------------------------\n",
      "C:\\Users\\TMU_AIMC\\Desktop\\james\\list相關用法.ipynb\n",
      "C:\\Users\\TMU_AIMC\\Desktop\\james\\政大moocs.ipynb\n",
      "C:\\Users\\TMU_AIMC\\Desktop\\james\\政大數據分析.ipynb\n"
     ]
    }
   ],
   "source": [
    "import glob\n",
    "path_src='C:\\\\Users\\\\TMU_AIMC\\\\Desktop\\\\james'\n",
    "path=os.path.join(path_src,'*.ipynb') #  *.ipynb 代表 我要選擇篩選.ipynb檔 \n",
    "print(path)\n",
    "print('----------------------------')\n",
    "case_ls=glob.glob(path)\n",
    "print(case_ls)\n",
    "print('----------------------------')\n",
    "for ele in case_ls:\n",
    "    print(ele)"
   ]
  },
  {
   "cell_type": "markdown",
   "metadata": {},
   "source": [
    "# 絕對路徑 vs 相對路徑"
   ]
  },
  {
   "cell_type": "code",
   "execution_count": 12,
   "metadata": {
    "scrolled": true
   },
   "outputs": [
    {
     "name": "stdout",
     "output_type": "stream",
     "text": [
      "絕對路徑: ['.ipynb_checkpoints', '20191019_參考範例.ipynb', 'filter.ipynb', 'GaussianDistribution_noise.ipynb', 'open.png', 'print, fumction, variable.ipynb', 'Quiz 1 Print and Function.ipynb', 'Quiz 2.ipynb', 'sample folder', 'Untitled.ipynb', '平均濾波、中位數濾波_Sample.ipynb', '第三章 應用.ipynb', '複雜(矩陣)運算.ipynb', '資料存取.ipynb', '資料處理_listdir.ipynb', '陣列 Array.ipynb', '雜訊.ipynb']\n"
     ]
    },
    {
     "ename": "FileNotFoundError",
     "evalue": "[WinError 3] 系統找不到指定的路徑。: '學長'",
     "output_type": "error",
     "traceback": [
      "\u001b[1;31m---------------------------------------------------------------------------\u001b[0m",
      "\u001b[1;31mFileNotFoundError\u001b[0m                         Traceback (most recent call last)",
      "\u001b[1;32m<ipython-input-12-09351b4d696f>\u001b[0m in \u001b[0;36m<module>\u001b[1;34m\u001b[0m\n\u001b[0;32m      5\u001b[0m \u001b[1;33m\u001b[0m\u001b[0m\n\u001b[0;32m      6\u001b[0m \u001b[0mpath_src_rel\u001b[0m\u001b[1;33m=\u001b[0m\u001b[1;34m'學長'\u001b[0m\u001b[1;33m\u001b[0m\u001b[1;33m\u001b[0m\u001b[0m\n\u001b[1;32m----> 7\u001b[1;33m \u001b[0mcase_ls2\u001b[0m\u001b[1;33m=\u001b[0m\u001b[0mos\u001b[0m\u001b[1;33m.\u001b[0m\u001b[0mlistdir\u001b[0m\u001b[1;33m(\u001b[0m\u001b[0mpath_src_rel\u001b[0m\u001b[1;33m)\u001b[0m\u001b[1;33m\u001b[0m\u001b[1;33m\u001b[0m\u001b[0m\n\u001b[0m\u001b[0;32m      8\u001b[0m \u001b[0mprint\u001b[0m\u001b[1;33m(\u001b[0m\u001b[1;34m'相對路徑:'\u001b[0m\u001b[1;33m,\u001b[0m\u001b[0mcase_ls2\u001b[0m\u001b[1;33m)\u001b[0m\u001b[1;33m\u001b[0m\u001b[1;33m\u001b[0m\u001b[0m\n",
      "\u001b[1;31mFileNotFoundError\u001b[0m: [WinError 3] 系統找不到指定的路徑。: '學長'"
     ]
    }
   ],
   "source": [
    "import os\n",
    "path_src_abs='C:/Users/TMU_AIMC/Desktop/james/學長'\n",
    "case_ls=os.listdir(path_src_abs)\n",
    "print('絕對路徑:',case_ls)\n",
    "\n",
    "path_src_rel='學長'\n",
    "case_ls2=os.listdir(path_src_rel)\n",
    "print('相對路徑:',case_ls2)"
   ]
  },
  {
   "cell_type": "code",
   "execution_count": 27,
   "metadata": {},
   "outputs": [
    {
     "name": "stdout",
     "output_type": "stream",
     "text": [
      "glob下的絕對路徑: ['C:/Users/TMU_AIMC/Desktop/james/學長']\n",
      "glob下的相對路徑: ['學長']\n"
     ]
    }
   ],
   "source": [
    "import glob\n",
    "path_src_abs='C:/Users/TMU_AIMC/Desktop/james/學長'\n",
    "case_ls=glob.glob(path_src_abs)\n",
    "print('glob下的絕對路徑:',case_ls)\n",
    "\n",
    "path_src_rel='學長'\n",
    "case_ls2=glob.glob(path_src_rel)\n",
    "print('glob下的相對路徑:',case_ls2)"
   ]
  },
  {
   "cell_type": "markdown",
   "metadata": {},
   "source": [
    "# 作業7 請以sample folder內容為基礎，先以print方式印出資料夾內之檔案，在篩選並留下檔名中不含k,m,n等關鍵字之檔案"
   ]
  },
  {
   "cell_type": "code",
   "execution_count": 34,
   "metadata": {},
   "outputs": [
    {
     "name": "stdout",
     "output_type": "stream",
     "text": [
      "test_4.csv\n",
      "test_PDbyDic.csv\n",
      "test_PDbyDictNP.csv\n",
      "view.jpg\n"
     ]
    }
   ],
   "source": [
    "import os\n",
    "path_src='C:\\\\Users\\\\TMU_AIMC\\\\Desktop\\\\james\\\\學長\\\\sample folder'\n",
    "case_ls=os.listdir(path_src)\n",
    "\n",
    "for ele in case_ls:\n",
    "    if 'k' in ele:\n",
    "        continue\n",
    "    elif 'm' in ele:\n",
    "        continue\n",
    "    elif 'n' in ele:\n",
    "        continue\n",
    "    else:\n",
    "        print(ele)\n",
    "   "
   ]
  },
  {
   "cell_type": "markdown",
   "metadata": {},
   "source": [
    "# 創建資料夾 mkdir\n",
    "mkdir(os.path.join(path, folder_name))"
   ]
  },
  {
   "cell_type": "code",
   "execution_count": 48,
   "metadata": {},
   "outputs": [
    {
     "name": "stdout",
     "output_type": "stream",
     "text": [
      "創造資料夾前: ['.ipynb_checkpoints', '20191019_參考範例.ipynb', 'filter.ipynb', 'GaussianDistribution_noise.ipynb', 'open.png', 'print, fumction, variable.ipynb', 'Quiz 1 Print and Function.ipynb', 'Quiz 2.ipynb', 'sample folder', 'Untitled.ipynb', '平均濾波、中位數濾波_Sample.ipynb', '第三章 應用.ipynb', '複雜(矩陣)運算.ipynb', '資料存取.ipynb', '資料處理_listdir.ipynb', '陣列 Array.ipynb', '雜訊.ipynb']\n",
      "-------------------------------------\n",
      "創造資料夾後: ['.ipynb_checkpoints', '20191019_參考範例.ipynb', 'filter.ipynb', 'GaussianDistribution_noise.ipynb', 'open.png', 'print, fumction, variable.ipynb', 'Quiz 1 Print and Function.ipynb', 'Quiz 2.ipynb', 'sample folder', 'testCreateFolder', 'Untitled.ipynb', '平均濾波、中位數濾波_Sample.ipynb', '第三章 應用.ipynb', '複雜(矩陣)運算.ipynb', '資料存取.ipynb', '資料處理_listdir.ipynb', '陣列 Array.ipynb', '雜訊.ipynb']\n"
     ]
    }
   ],
   "source": [
    "import os\n",
    "path='C:\\\\Users\\\\TMU_AIMC\\\\Desktop\\\\james\\\\學長'\n",
    "folder_name='testCreateFolder'\n",
    "\n",
    "case_ls=os.listdir(path) # 相對路徑\n",
    "print('創造資料夾前: %s' %case_ls)\n",
    "\n",
    "print('-------------------------------------')\n",
    "\n",
    "os.mkdir(os.path.join(path, folder_name))  \n",
    "case_ls2=os.listdir(path)\n",
    "print('創造資料夾後: %s' %case_ls2)"
   ]
  },
  {
   "cell_type": "markdown",
   "metadata": {},
   "source": [
    "# 移除檔案/資料夾\n",
    "rmdir:移除資料夾\n",
    "remove:移除檔案"
   ]
  },
  {
   "cell_type": "code",
   "execution_count": 44,
   "metadata": {
    "scrolled": false
   },
   "outputs": [
    {
     "name": "stdout",
     "output_type": "stream",
     "text": [
      "刪除資料夾前: ['.ipynb_checkpoints', '20191019_參考範例.ipynb', 'filter.ipynb', 'GaussianDistribution_noise.ipynb', 'open.png', 'print, fumction, variable.ipynb', 'Quiz 1 Print and Function.ipynb', 'Quiz 2.ipynb', 'sample folder', 'testCreateFolder', 'Untitled.ipynb', '平均濾波、中位數濾波_Sample.ipynb', '第三章 應用.ipynb', '複雜(矩陣)運算.ipynb', '資料存取.ipynb', '資料處理_listdir.ipynb', '陣列 Array.ipynb', '雜訊.ipynb']\n",
      "刪除資料夾後: ['.ipynb_checkpoints', '20191019_參考範例.ipynb', 'filter.ipynb', 'GaussianDistribution_noise.ipynb', 'open.png', 'print, fumction, variable.ipynb', 'Quiz 1 Print and Function.ipynb', 'Quiz 2.ipynb', 'sample folder', 'Untitled.ipynb', '平均濾波、中位數濾波_Sample.ipynb', '第三章 應用.ipynb', '複雜(矩陣)運算.ipynb', '資料存取.ipynb', '資料處理_listdir.ipynb', '陣列 Array.ipynb', '雜訊.ipynb']\n"
     ]
    }
   ],
   "source": [
    "import os\n",
    "path='C:\\\\Users\\\\TMU_AIMC\\\\Desktop\\\\james\\\\學長'\n",
    "folder_name='testCreateFolder'\n",
    "\n",
    "case_ls=os.listdir(path)\n",
    "print('刪除資料夾前: %s' %case_ls)\n",
    "\n",
    "os.rmdir(os.path.join(path, folder_name))\n",
    "case_ls2=os.listdir(path)\n",
    "print('刪除資料夾後: %s' %case_ls2)"
   ]
  },
  {
   "cell_type": "markdown",
   "metadata": {},
   "source": [
    "# 進階處理\n",
    "檔案存在無法重複建立  \n",
    "檔案不存在無法執行刪除  \n",
    "檔案存在/不存在該如何確認  \n",
    "如何刪除多階層且內含檔案之資料夾  "
   ]
  },
  {
   "cell_type": "code",
   "execution_count": 53,
   "metadata": {
    "scrolled": true
   },
   "outputs": [
    {
     "name": "stdout",
     "output_type": "stream",
     "text": [
      "Current folder: ['.ipynb_checkpoints', '20191019_參考範例.ipynb', 'filter.ipynb', 'GaussianDistribution_noise.ipynb', 'open.png', 'print, fumction, variable.ipynb', 'Quiz 1 Print and Function.ipynb', 'Quiz 2.ipynb', 'sample folder', 'testCreateFolder', 'Untitled.ipynb', '平均濾波、中位數濾波_Sample.ipynb', '第三章 應用.ipynb', '複雜(矩陣)運算.ipynb', '資料存取.ipynb', '資料處理_listdir.ipynb', '陣列 Array.ipynb', '雜訊.ipynb']\n",
      "True\n",
      "True\n",
      "True\n"
     ]
    }
   ],
   "source": [
    "# 確認資料是否存在\n",
    "import os\n",
    "\n",
    "path='C:\\\\Users\\\\TMU_AIMC\\\\Desktop\\\\james\\\\學長'\n",
    "folder_name='testCreateFolder'\n",
    "\n",
    "\n",
    "# os.mkdir(os.path.join(path, folder_name))\n",
    "# os.rmdir(os.path.join(path, folder_name))\n",
    "\n",
    "case_ls=os.listdir(path)\n",
    "print('Current folder: %s' %case_ls)\n",
    "\n",
    "# 方法1\n",
    "isExist= folder_name in case_ls   \n",
    "print(isExist)\n",
    "\n",
    "# 方法2 利用 exists 函數\n",
    "isExist = os.path.exists(os.path.join(path, folder_name))\n",
    "print(isExist)\n",
    "\n",
    "# 方法3\n",
    "if folder_name in case_ls:\n",
    "    print('True')\n",
    "else:\n",
    "    print('False')"
   ]
  },
  {
   "cell_type": "markdown",
   "metadata": {},
   "source": [
    "# 作業8 請寫一個函數，輸入為路徑，回傳一個boolean值告訴該路徑所指向之 檔案/資料夾 是否存在"
   ]
  },
  {
   "cell_type": "code",
   "execution_count": 57,
   "metadata": {},
   "outputs": [
    {
     "name": "stdout",
     "output_type": "stream",
     "text": [
      "True\n"
     ]
    }
   ],
   "source": [
    "import os\n",
    "def func_CheckExist(path):\n",
    "    check = os.path.exists(path)\n",
    "    return check\n",
    "\n",
    "path='C:\\\\Users\\\\TMU_AIMC\\\\Desktop\\\\james\\\\學長'\n",
    "check=func_CheckExist(path)\n",
    "\n",
    "print(check)"
   ]
  }
 ],
 "metadata": {
  "kernelspec": {
   "display_name": "Python 3",
   "language": "python",
   "name": "python3"
  },
  "language_info": {
   "codemirror_mode": {
    "name": "ipython",
    "version": 3
   },
   "file_extension": ".py",
   "mimetype": "text/x-python",
   "name": "python",
   "nbconvert_exporter": "python",
   "pygments_lexer": "ipython3",
   "version": "3.7.3"
  }
 },
 "nbformat": 4,
 "nbformat_minor": 2
}
