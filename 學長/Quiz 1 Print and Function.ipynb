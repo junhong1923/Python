{
 "cells": [
  {
   "cell_type": "markdown",
   "metadata": {},
   "source": [
    "# Print\n"
   ]
  },
  {
   "cell_type": "code",
   "execution_count": 2,
   "metadata": {},
   "outputs": [
    {
     "name": "stdout",
     "output_type": "stream",
     "text": [
      "Hellow World\n"
     ]
    }
   ],
   "source": [
    "print('Hellow World')"
   ]
  },
  {
   "cell_type": "code",
   "execution_count": 3,
   "metadata": {},
   "outputs": [
    {
     "name": "stdout",
     "output_type": "stream",
     "text": [
      "HellowWorld\n"
     ]
    }
   ],
   "source": [
    "print(\"Hellow\" + \"World\")"
   ]
  },
  {
   "cell_type": "code",
   "execution_count": 4,
   "metadata": {},
   "outputs": [
    {
     "name": "stdout",
     "output_type": "stream",
     "text": [
      "Hellow World\n"
     ]
    }
   ],
   "source": [
    "print('Hellow' + ' ' + 'World')"
   ]
  },
  {
   "cell_type": "markdown",
   "metadata": {},
   "source": [
    "# List Tuple"
   ]
  },
  {
   "cell_type": "code",
   "execution_count": 6,
   "metadata": {},
   "outputs": [
    {
     "name": "stdout",
     "output_type": "stream",
     "text": [
      "['Hellow', ' ', 'World']\n",
      "('Hellow', ' ', 'World')\n"
     ]
    }
   ],
   "source": [
    "print(['Hellow', ' ', 'World'])\n",
    "print(('Hellow', ' ', 'World'))"
   ]
  },
  {
   "cell_type": "code",
   "execution_count": 8,
   "metadata": {},
   "outputs": [
    {
     "name": "stdout",
     "output_type": "stream",
     "text": [
      "123\n",
      "6\n"
     ]
    }
   ],
   "source": [
    "print(123)\n",
    "print(1 + 2 + 3)"
   ]
  },
  {
   "cell_type": "code",
   "execution_count": 10,
   "metadata": {},
   "outputs": [
    {
     "name": "stdout",
     "output_type": "stream",
     "text": [
      "a+b=4\n"
     ]
    }
   ],
   "source": [
    "# print('a' + '+' + 'b' + '=' + 4)\n",
    "print('a' + '+' + 'b' + '=' + str(4))"
   ]
  },
  {
   "cell_type": "code",
   "execution_count": 11,
   "metadata": {},
   "outputs": [
    {
     "name": "stdout",
     "output_type": "stream",
     "text": [
      "4 = a\n"
     ]
    }
   ],
   "source": [
    "print('%d = %s' %(4, 'a'))"
   ]
  },
  {
   "cell_type": "code",
   "execution_count": 16,
   "metadata": {},
   "outputs": [
    {
     "name": "stdout",
     "output_type": "stream",
     "text": [
      "HI\n",
      "How Are You\n",
      "Hi Yes!!!\n"
     ]
    }
   ],
   "source": [
    "print('HI')\n",
    "print('How Are You')\n",
    "\n",
    "print('Hi ', end='')\n",
    "print('Yes!!!')"
   ]
  },
  {
   "cell_type": "code",
   "execution_count": 21,
   "metadata": {},
   "outputs": [
    {
     "name": "stdout",
     "output_type": "stream",
     "text": [
      "a      b\n",
      "a\tb\tc\td\te\tf\n",
      "avs\tbfd\tec\tdw\tefdf\tf\n"
     ]
    }
   ],
   "source": [
    "print('a      b')\n",
    "print('a\\tb\\tc\\td\\te\\tf')\n",
    "print('avs\\tbfd\\tec\\tdw\\tefdf\\tf')\n"
   ]
  },
  {
   "cell_type": "markdown",
   "metadata": {},
   "source": [
    "# Function"
   ]
  },
  {
   "cell_type": "code",
   "execution_count": 26,
   "metadata": {},
   "outputs": [
    {
     "name": "stdout",
     "output_type": "stream",
     "text": [
      "3 + 8 = 11\n",
      "2 + 4 = 6\n",
      "13\n"
     ]
    }
   ],
   "source": [
    "def myAdd():\n",
    "    \n",
    "    print('%d + %d = %d' %(2, 4, 2+4))\n",
    "    \n",
    "def myAdd_2(a, b):\n",
    "    \n",
    "    print('%d + %d = %d' %(a, b, a+b))\n",
    "    \n",
    "def myAdd_3(a, b):\n",
    "    \n",
    "    return a+b\n",
    "\n",
    "    \n",
    "# myAdd()\n",
    "myAdd_2(3, 8)\n",
    "myAdd()\n",
    "\n",
    "result = myAdd_3(3, 10)\n",
    "print(result)"
   ]
  },
  {
   "cell_type": "markdown",
   "metadata": {},
   "source": [
    "# Q1. 請找出如何在 print 中執行 \" 換行 \" 指令"
   ]
  },
  {
   "cell_type": "code",
   "execution_count": 18,
   "metadata": {},
   "outputs": [
    {
     "name": "stdout",
     "output_type": "stream",
     "text": [
      "Hellow World\n",
      "Hellow\n",
      "World\n",
      "Hellow\n",
      "World\n"
     ]
    }
   ],
   "source": [
    "print('Hellow World')\n",
    "\n",
    "print('Hellow')\n",
    "print('World')\n",
    "\n",
    "print('Hellow\\nWorld')"
   ]
  },
  {
   "cell_type": "markdown",
   "metadata": {},
   "source": [
    "# Q2. 請開啟任一資料夾，參考並用 print 指令打出對應之路徑\n"
   ]
  },
  {
   "cell_type": "code",
   "execution_count": 31,
   "metadata": {},
   "outputs": [
    {
     "ename": "SyntaxError",
     "evalue": "(unicode error) 'unicodeescape' codec can't decode bytes in position 2-3: truncated \\UXXXXXXXX escape (<ipython-input-31-89cb03e52327>, line 1)",
     "output_type": "error",
     "traceback": [
      "\u001b[1;36m  File \u001b[1;32m\"<ipython-input-31-89cb03e52327>\"\u001b[1;36m, line \u001b[1;32m1\u001b[0m\n\u001b[1;33m    path = 'C:\\Users\\TMU\\Documents\\TMU\\AI學程\\201909\\數據運算程式設計\\2. 變數、陣列、迴圈、邏輯\\影片'\u001b[0m\n\u001b[1;37m          ^\u001b[0m\n\u001b[1;31mSyntaxError\u001b[0m\u001b[1;31m:\u001b[0m (unicode error) 'unicodeescape' codec can't decode bytes in position 2-3: truncated \\UXXXXXXXX escape\n"
     ]
    }
   ],
   "source": [
    "path = 'C:\\Users\\TMU\\Documents\\TMU\\AI學程\\201909\\數據運算程式設計\\2. 變數、陣列、迴圈、邏輯\\影片'\n",
    "print(path)"
   ]
  },
  {
   "cell_type": "code",
   "execution_count": 32,
   "metadata": {},
   "outputs": [
    {
     "name": "stdout",
     "output_type": "stream",
     "text": [
      "C:\\Users\\TMU\\Documents\\TMU\\AI學程\\201909\\數據運算程式設計\\2. 變數、陣列、迴圈、邏輯\\影片\n"
     ]
    }
   ],
   "source": [
    "path = 'C:\\\\Users\\\\TMU\\\\Documents\\\\TMU\\\\AI學程\\\\201909\\\\數據運算程式設計\\\\2. 變數、陣列、迴圈、邏輯\\\\影片'\n",
    "print(path)"
   ]
  },
  {
   "cell_type": "code",
   "execution_count": 33,
   "metadata": {},
   "outputs": [
    {
     "name": "stdout",
     "output_type": "stream",
     "text": [
      "C:/Users/TMU/Documents/TMU/AI學程/201909/數據運算程式設計/2. 變數、陣列、迴圈、邏輯/影片\n"
     ]
    }
   ],
   "source": [
    "path = 'C:/Users/TMU/Documents/TMU/AI學程/201909/數據運算程式設計/2. 變數、陣列、迴圈、邏輯/影片'\n",
    "print(path)\n"
   ]
  },
  {
   "cell_type": "markdown",
   "metadata": {},
   "source": [
    "# Q3. 寫一個 function 讓他具備輸入輸出格式為：\n",
    "輸入: var1: num_1, var2: num_2  \n",
    "程式中印出 var1 + var2 = sum(var1 + var2)  \n",
    "輸出: 回傳 var1 + var2 的結果"
   ]
  },
  {
   "cell_type": "code",
   "execution_count": 3,
   "metadata": {},
   "outputs": [
    {
     "name": "stdout",
     "output_type": "stream",
     "text": [
      "2+9=11\n",
      "11\n"
     ]
    }
   ],
   "source": [
    "def function(var1, var2):\n",
    "    \n",
    "    result = var1+var2\n",
    "    \n",
    "    print(str(var1) + '+' + str(var2) + '=' + str(result))\n",
    "    \n",
    "    return result\n",
    "\n",
    "sum = function(2, 9)\n",
    "\n",
    "print(sum)\n",
    "    "
   ]
  }
 ],
 "metadata": {
  "kernelspec": {
   "display_name": "Python 3",
   "language": "python",
   "name": "python3"
  },
  "language_info": {
   "codemirror_mode": {
    "name": "ipython",
    "version": 3
   },
   "file_extension": ".py",
   "mimetype": "text/x-python",
   "name": "python",
   "nbconvert_exporter": "python",
   "pygments_lexer": "ipython3",
   "version": "3.7.3"
  }
 },
 "nbformat": 4,
 "nbformat_minor": 2
}
