{
 "cells": [
  {
   "cell_type": "markdown",
   "metadata": {},
   "source": [
    "# 資料存取(pandas)\n",
    "利用pandas函式庫:  \n",
    "1.產生 '.csv'格式檔案  \n",
    "2.存取 '.csv'格式檔案  \n",
    "3.調整.csv檔案內容"
   ]
  },
  {
   "cell_type": "code",
   "execution_count": 1,
   "metadata": {},
   "outputs": [
    {
     "name": "stdout",
     "output_type": "stream",
     "text": [
      "[[0.60196029 0.08928887 0.84179047 0.19932044]\n",
      " [0.71022508 0.69005754 0.83411064 0.89949526]]\n",
      "          col_0     col_1     col_2     col_3\n",
      "row_0  0.601960  0.089289  0.841790  0.199320\n",
      "row_1  0.710225  0.690058  0.834111  0.899495\n"
     ]
    },
    {
     "data": {
      "text/html": [
       "<div>\n",
       "<style scoped>\n",
       "    .dataframe tbody tr th:only-of-type {\n",
       "        vertical-align: middle;\n",
       "    }\n",
       "\n",
       "    .dataframe tbody tr th {\n",
       "        vertical-align: top;\n",
       "    }\n",
       "\n",
       "    .dataframe thead th {\n",
       "        text-align: right;\n",
       "    }\n",
       "</style>\n",
       "<table border=\"1\" class=\"dataframe\">\n",
       "  <thead>\n",
       "    <tr style=\"text-align: right;\">\n",
       "      <th></th>\n",
       "      <th>col_0</th>\n",
       "      <th>col_1</th>\n",
       "      <th>col_2</th>\n",
       "      <th>col_3</th>\n",
       "    </tr>\n",
       "  </thead>\n",
       "  <tbody>\n",
       "    <tr>\n",
       "      <td>row_0</td>\n",
       "      <td>0.601960</td>\n",
       "      <td>0.089289</td>\n",
       "      <td>0.841790</td>\n",
       "      <td>0.199320</td>\n",
       "    </tr>\n",
       "    <tr>\n",
       "      <td>row_1</td>\n",
       "      <td>0.710225</td>\n",
       "      <td>0.690058</td>\n",
       "      <td>0.834111</td>\n",
       "      <td>0.899495</td>\n",
       "    </tr>\n",
       "  </tbody>\n",
       "</table>\n",
       "</div>"
      ],
      "text/plain": [
       "          col_0     col_1     col_2     col_3\n",
       "row_0  0.601960  0.089289  0.841790  0.199320\n",
       "row_1  0.710225  0.690058  0.834111  0.899495"
      ]
     },
     "execution_count": 1,
     "metadata": {},
     "output_type": "execute_result"
    }
   ],
   "source": [
    "import numpy as np\n",
    "import pandas as pd\n",
    "import os\n",
    "\n",
    "pd_data = np.random.rand(2,4)\n",
    "print(pd_data)\n",
    "\n",
    "pd_index = ['row_0','row_1']\n",
    "pd_col = ['col_0','col_1','col_2','col_3']\n",
    "my_pd=pd.DataFrame(data=pd_data, index=pd_index, columns=pd_col) # 只有組裝起來，沒有存\n",
    "\n",
    "print(my_pd)\n",
    "# 把csv存起來\n",
    "path_dst='sample folder'\n",
    "file_name='myPD.csv'\n",
    "\n",
    "my_pd.to_csv(os.path.join(path_dst,file_name))\n",
    "my_pd"
   ]
  },
  {
   "cell_type": "markdown",
   "metadata": {},
   "source": [
    "# 利用dict 產生pandas的資料"
   ]
  },
  {
   "cell_type": "code",
   "execution_count": 1,
   "metadata": {},
   "outputs": [
    {
     "name": "stdout",
     "output_type": "stream",
     "text": [
      "{'col_0': [1, 2, 3], 'col_1': [4, 5, 6]}\n"
     ]
    },
    {
     "data": {
      "text/html": [
       "<div>\n",
       "<style scoped>\n",
       "    .dataframe tbody tr th:only-of-type {\n",
       "        vertical-align: middle;\n",
       "    }\n",
       "\n",
       "    .dataframe tbody tr th {\n",
       "        vertical-align: top;\n",
       "    }\n",
       "\n",
       "    .dataframe thead th {\n",
       "        text-align: right;\n",
       "    }\n",
       "</style>\n",
       "<table border=\"1\" class=\"dataframe\">\n",
       "  <thead>\n",
       "    <tr style=\"text-align: right;\">\n",
       "      <th></th>\n",
       "      <th>col_0</th>\n",
       "      <th>col_1</th>\n",
       "    </tr>\n",
       "  </thead>\n",
       "  <tbody>\n",
       "    <tr>\n",
       "      <td>row_0</td>\n",
       "      <td>1</td>\n",
       "      <td>4</td>\n",
       "    </tr>\n",
       "    <tr>\n",
       "      <td>row_1</td>\n",
       "      <td>2</td>\n",
       "      <td>5</td>\n",
       "    </tr>\n",
       "    <tr>\n",
       "      <td>row_2</td>\n",
       "      <td>3</td>\n",
       "      <td>6</td>\n",
       "    </tr>\n",
       "  </tbody>\n",
       "</table>\n",
       "</div>"
      ],
      "text/plain": [
       "       col_0  col_1\n",
       "row_0      1      4\n",
       "row_1      2      5\n",
       "row_2      3      6"
      ]
     },
     "execution_count": 1,
     "metadata": {},
     "output_type": "execute_result"
    }
   ],
   "source": [
    "import numpy as np\n",
    "import pandas as pd\n",
    "import os\n",
    "\n",
    "a={'col_0':[1,2,3],\n",
    "  'col_1':[4,5,6]}\n",
    "print(a)\n",
    "myPD=pd.DataFrame(a, index=['row_0', 'row_1', 'row_2'])\n",
    "\n",
    "path_dst='sample folder'\n",
    "file_name='test_PDbyDict.csv'\n",
    "\n",
    "myPD.to_csv(os.path.join(path_dst, file_name))\n",
    "\n",
    "myPD"
   ]
  },
  {
   "cell_type": "markdown",
   "metadata": {},
   "source": [
    "# 利用numpy產生pandas"
   ]
  },
  {
   "cell_type": "code",
   "execution_count": 3,
   "metadata": {},
   "outputs": [
    {
     "name": "stdout",
     "output_type": "stream",
     "text": [
      "{'col_0': [[0.7476970321379396, 0.7791786744586099, 0.4750601446221957, 0.18866662251778377]], 'col_1': [[0.837601846174906, 0.7008604412174835, 0.6396338530109678, 0.29440770885651435]]}\n"
     ]
    },
    {
     "data": {
      "text/html": [
       "<div>\n",
       "<style scoped>\n",
       "    .dataframe tbody tr th:only-of-type {\n",
       "        vertical-align: middle;\n",
       "    }\n",
       "\n",
       "    .dataframe tbody tr th {\n",
       "        vertical-align: top;\n",
       "    }\n",
       "\n",
       "    .dataframe thead th {\n",
       "        text-align: right;\n",
       "    }\n",
       "</style>\n",
       "<table border=\"1\" class=\"dataframe\">\n",
       "  <thead>\n",
       "    <tr style=\"text-align: right;\">\n",
       "      <th></th>\n",
       "      <th>col_0</th>\n",
       "      <th>col_1</th>\n",
       "    </tr>\n",
       "  </thead>\n",
       "  <tbody>\n",
       "    <tr>\n",
       "      <td>row_0</td>\n",
       "      <td>[0.7476970321379396, 0.7791786744586099, 0.475...</td>\n",
       "      <td>[0.837601846174906, 0.7008604412174835, 0.6396...</td>\n",
       "    </tr>\n",
       "    <tr>\n",
       "      <td>row_1</td>\n",
       "      <td>[0.7476970321379396, 0.7791786744586099, 0.475...</td>\n",
       "      <td>[0.837601846174906, 0.7008604412174835, 0.6396...</td>\n",
       "    </tr>\n",
       "    <tr>\n",
       "      <td>row_2</td>\n",
       "      <td>[0.7476970321379396, 0.7791786744586099, 0.475...</td>\n",
       "      <td>[0.837601846174906, 0.7008604412174835, 0.6396...</td>\n",
       "    </tr>\n",
       "  </tbody>\n",
       "</table>\n",
       "</div>"
      ],
      "text/plain": [
       "                                                   col_0  \\\n",
       "row_0  [0.7476970321379396, 0.7791786744586099, 0.475...   \n",
       "row_1  [0.7476970321379396, 0.7791786744586099, 0.475...   \n",
       "row_2  [0.7476970321379396, 0.7791786744586099, 0.475...   \n",
       "\n",
       "                                                   col_1  \n",
       "row_0  [0.837601846174906, 0.7008604412174835, 0.6396...  \n",
       "row_1  [0.837601846174906, 0.7008604412174835, 0.6396...  \n",
       "row_2  [0.837601846174906, 0.7008604412174835, 0.6396...  "
      ]
     },
     "execution_count": 3,
     "metadata": {},
     "output_type": "execute_result"
    }
   ],
   "source": [
    "import numpy as np\n",
    "import pandas as pd\n",
    "import os\n",
    "\n",
    "a={'col_0':np.random.rand(1,4).tolist(),  # 把random產出的轉成list\n",
    "  'col_1':np.random.rand(1,4).tolist()}\n",
    "print(a)\n",
    "myPD=pd.DataFrame(a, index=['row_0','row_1','row_2'])\n",
    "path_dst='sample folder'\n",
    "file_name='test_PDbyDictNP.csv'\n",
    "\n",
    "myPD.to_csv(os.path.join(path_dst, file_name))\n",
    "\n",
    "myPD"
   ]
  },
  {
   "cell_type": "code",
   "execution_count": 12,
   "metadata": {},
   "outputs": [
    {
     "data": {
      "text/html": [
       "<div>\n",
       "<style scoped>\n",
       "    .dataframe tbody tr th:only-of-type {\n",
       "        vertical-align: middle;\n",
       "    }\n",
       "\n",
       "    .dataframe tbody tr th {\n",
       "        vertical-align: top;\n",
       "    }\n",
       "\n",
       "    .dataframe thead th {\n",
       "        text-align: right;\n",
       "    }\n",
       "</style>\n",
       "<table border=\"1\" class=\"dataframe\">\n",
       "  <thead>\n",
       "    <tr style=\"text-align: right;\">\n",
       "      <th></th>\n",
       "      <th>0</th>\n",
       "      <th>1</th>\n",
       "      <th>2</th>\n",
       "    </tr>\n",
       "  </thead>\n",
       "  <tbody>\n",
       "    <tr>\n",
       "      <td>0</td>\n",
       "      <td>NaN</td>\n",
       "      <td>col_0</td>\n",
       "      <td>col_1</td>\n",
       "    </tr>\n",
       "    <tr>\n",
       "      <td>1</td>\n",
       "      <td>row_0</td>\n",
       "      <td>[0.7476970321379396, 0.7791786744586099, 0.475...</td>\n",
       "      <td>[0.837601846174906, 0.7008604412174835, 0.6396...</td>\n",
       "    </tr>\n",
       "    <tr>\n",
       "      <td>2</td>\n",
       "      <td>row_1</td>\n",
       "      <td>[0.7476970321379396, 0.7791786744586099, 0.475...</td>\n",
       "      <td>[0.837601846174906, 0.7008604412174835, 0.6396...</td>\n",
       "    </tr>\n",
       "    <tr>\n",
       "      <td>3</td>\n",
       "      <td>row_2</td>\n",
       "      <td>[0.7476970321379396, 0.7791786744586099, 0.475...</td>\n",
       "      <td>[0.837601846174906, 0.7008604412174835, 0.6396...</td>\n",
       "    </tr>\n",
       "  </tbody>\n",
       "</table>\n",
       "</div>"
      ],
      "text/plain": [
       "       0                                                  1  \\\n",
       "0    NaN                                              col_0   \n",
       "1  row_0  [0.7476970321379396, 0.7791786744586099, 0.475...   \n",
       "2  row_1  [0.7476970321379396, 0.7791786744586099, 0.475...   \n",
       "3  row_2  [0.7476970321379396, 0.7791786744586099, 0.475...   \n",
       "\n",
       "                                                   2  \n",
       "0                                              col_1  \n",
       "1  [0.837601846174906, 0.7008604412174835, 0.6396...  \n",
       "2  [0.837601846174906, 0.7008604412174835, 0.6396...  \n",
       "3  [0.837601846174906, 0.7008604412174835, 0.6396...  "
      ]
     },
     "execution_count": 12,
     "metadata": {},
     "output_type": "execute_result"
    }
   ],
   "source": [
    "a={'col_0':np.random.randn(6).tolist(),\n",
    "  'col_1':np.random.randn(6).tolist(),\n",
    "  'col_2':np.random.randn(6).tolist(),\n",
    "  'col_3':np.random.randn(6).tolist(),\n",
    "  'col_4':np.random.randn(6).tolist(),\n",
    "  'col_5':np.random.randn(6).tolist(),\n",
    "  'col_6':np.random.randn(6).tolist(),\n",
    "  'col_7':np.random.randn(6).tolist(),}\n",
    "\n",
    "mine=pd.DataFrame(a, index=['row_0','row_1','row_2','row_3','row_4','row_5'])\n",
    "path_dst='sample folder'\n",
    "file_name='test_4.csv'\n",
    "\n",
    "myPD.to_csv(os.path.join(path_dst, file_name))\n",
    "\n",
    "myPD"
   ]
  },
  {
   "cell_type": "markdown",
   "metadata": {},
   "source": [
    "# 存取.csv 格式檔案"
   ]
  },
  {
   "cell_type": "code",
   "execution_count": 10,
   "metadata": {},
   "outputs": [
    {
     "data": {
      "text/html": [
       "<div>\n",
       "<style scoped>\n",
       "    .dataframe tbody tr th:only-of-type {\n",
       "        vertical-align: middle;\n",
       "    }\n",
       "\n",
       "    .dataframe tbody tr th {\n",
       "        vertical-align: top;\n",
       "    }\n",
       "\n",
       "    .dataframe thead th {\n",
       "        text-align: right;\n",
       "    }\n",
       "</style>\n",
       "<table border=\"1\" class=\"dataframe\">\n",
       "  <thead>\n",
       "    <tr style=\"text-align: right;\">\n",
       "      <th></th>\n",
       "      <th>0</th>\n",
       "      <th>1</th>\n",
       "      <th>2</th>\n",
       "    </tr>\n",
       "  </thead>\n",
       "  <tbody>\n",
       "    <tr>\n",
       "      <td>0</td>\n",
       "      <td>NaN</td>\n",
       "      <td>col_0</td>\n",
       "      <td>col_1</td>\n",
       "    </tr>\n",
       "    <tr>\n",
       "      <td>1</td>\n",
       "      <td>row_0</td>\n",
       "      <td>[0.7476970321379396, 0.7791786744586099, 0.475...</td>\n",
       "      <td>[0.837601846174906, 0.7008604412174835, 0.6396...</td>\n",
       "    </tr>\n",
       "    <tr>\n",
       "      <td>2</td>\n",
       "      <td>row_1</td>\n",
       "      <td>[0.7476970321379396, 0.7791786744586099, 0.475...</td>\n",
       "      <td>[0.837601846174906, 0.7008604412174835, 0.6396...</td>\n",
       "    </tr>\n",
       "    <tr>\n",
       "      <td>3</td>\n",
       "      <td>row_2</td>\n",
       "      <td>[0.7476970321379396, 0.7791786744586099, 0.475...</td>\n",
       "      <td>[0.837601846174906, 0.7008604412174835, 0.6396...</td>\n",
       "    </tr>\n",
       "  </tbody>\n",
       "</table>\n",
       "</div>"
      ],
      "text/plain": [
       "       0                                                  1  \\\n",
       "0    NaN                                              col_0   \n",
       "1  row_0  [0.7476970321379396, 0.7791786744586099, 0.475...   \n",
       "2  row_1  [0.7476970321379396, 0.7791786744586099, 0.475...   \n",
       "3  row_2  [0.7476970321379396, 0.7791786744586099, 0.475...   \n",
       "\n",
       "                                                   2  \n",
       "0                                              col_1  \n",
       "1  [0.837601846174906, 0.7008604412174835, 0.6396...  \n",
       "2  [0.837601846174906, 0.7008604412174835, 0.6396...  \n",
       "3  [0.837601846174906, 0.7008604412174835, 0.6396...  "
      ]
     },
     "execution_count": 10,
     "metadata": {},
     "output_type": "execute_result"
    }
   ],
   "source": [
    "import pandas as pd\n",
    "import os\n",
    "\n",
    "path_src='sample folder'\n",
    "file_name='test_PDbyDictNP.csv'\n",
    "\n",
    "# myPD= pd.read_csv(os.path.join(path_src, file_name)) # 會把原本row的col當作獨立一col\n",
    "myPD_1= pd.read_csv(os.path.join(path_src, file_name), index_col='Unnamed: 0') # 把'Unnamed' 這欄拉到最前面\n",
    "myPD_2=pd.read_csv(os.path.join(path_src, file_name), header=None) # 把header拿掉\n",
    "# myPD_1\n",
    "myPD_2"
   ]
  },
  {
   "cell_type": "markdown",
   "metadata": {},
   "source": [
    "# 作業9 請用pandas的功能產生一個內容為6*8的隨機變數矩陣，index為row_i, columns為col_i，其中index及column須以迴圈+陣列方式產生"
   ]
  },
  {
   "cell_type": "code",
   "execution_count": null,
   "metadata": {},
   "outputs": [],
   "source": []
  },
  {
   "cell_type": "markdown",
   "metadata": {},
   "source": [
    "# 擷取出特定row的資料"
   ]
  },
  {
   "cell_type": "code",
   "execution_count": 12,
   "metadata": {},
   "outputs": [
    {
     "data": {
      "text/html": [
       "<div>\n",
       "<style scoped>\n",
       "    .dataframe tbody tr th:only-of-type {\n",
       "        vertical-align: middle;\n",
       "    }\n",
       "\n",
       "    .dataframe tbody tr th {\n",
       "        vertical-align: top;\n",
       "    }\n",
       "\n",
       "    .dataframe thead th {\n",
       "        text-align: right;\n",
       "    }\n",
       "</style>\n",
       "<table border=\"1\" class=\"dataframe\">\n",
       "  <thead>\n",
       "    <tr style=\"text-align: right;\">\n",
       "      <th></th>\n",
       "      <th>col_0</th>\n",
       "      <th>col_1</th>\n",
       "      <th>col_2</th>\n",
       "      <th>col_3</th>\n",
       "      <th>col_4</th>\n",
       "      <th>col_5</th>\n",
       "      <th>col_6</th>\n",
       "      <th>col_7</th>\n",
       "    </tr>\n",
       "  </thead>\n",
       "  <tbody>\n",
       "    <tr>\n",
       "      <td>row_0</td>\n",
       "      <td>1.471790</td>\n",
       "      <td>-0.329059</td>\n",
       "      <td>-0.159091</td>\n",
       "      <td>0.181621</td>\n",
       "      <td>-0.213909</td>\n",
       "      <td>-0.455106</td>\n",
       "      <td>0.031087</td>\n",
       "      <td>-1.433628</td>\n",
       "    </tr>\n",
       "    <tr>\n",
       "      <td>row_1</td>\n",
       "      <td>0.460933</td>\n",
       "      <td>-1.034908</td>\n",
       "      <td>-0.515148</td>\n",
       "      <td>0.537855</td>\n",
       "      <td>-1.699754</td>\n",
       "      <td>-2.470949</td>\n",
       "      <td>-1.194395</td>\n",
       "      <td>-1.126754</td>\n",
       "    </tr>\n",
       "    <tr>\n",
       "      <td>row_2</td>\n",
       "      <td>-0.522997</td>\n",
       "      <td>-1.126751</td>\n",
       "      <td>-0.993989</td>\n",
       "      <td>0.066417</td>\n",
       "      <td>1.807310</td>\n",
       "      <td>-0.163788</td>\n",
       "      <td>-0.516206</td>\n",
       "      <td>1.100435</td>\n",
       "    </tr>\n",
       "    <tr>\n",
       "      <td>row_3</td>\n",
       "      <td>1.398322</td>\n",
       "      <td>1.957880</td>\n",
       "      <td>-1.063461</td>\n",
       "      <td>0.583091</td>\n",
       "      <td>0.597558</td>\n",
       "      <td>0.006984</td>\n",
       "      <td>-0.961922</td>\n",
       "      <td>0.035966</td>\n",
       "    </tr>\n",
       "    <tr>\n",
       "      <td>row_4</td>\n",
       "      <td>0.049917</td>\n",
       "      <td>1.179471</td>\n",
       "      <td>-1.421946</td>\n",
       "      <td>1.117273</td>\n",
       "      <td>-0.090324</td>\n",
       "      <td>0.393800</td>\n",
       "      <td>0.582664</td>\n",
       "      <td>0.441353</td>\n",
       "    </tr>\n",
       "    <tr>\n",
       "      <td>row_5</td>\n",
       "      <td>1.083106</td>\n",
       "      <td>0.412680</td>\n",
       "      <td>0.180670</td>\n",
       "      <td>1.639865</td>\n",
       "      <td>-0.203611</td>\n",
       "      <td>1.947395</td>\n",
       "      <td>-0.329214</td>\n",
       "      <td>0.059721</td>\n",
       "    </tr>\n",
       "  </tbody>\n",
       "</table>\n",
       "</div>"
      ],
      "text/plain": [
       "          col_0     col_1     col_2     col_3     col_4     col_5     col_6  \\\n",
       "row_0  1.471790 -0.329059 -0.159091  0.181621 -0.213909 -0.455106  0.031087   \n",
       "row_1  0.460933 -1.034908 -0.515148  0.537855 -1.699754 -2.470949 -1.194395   \n",
       "row_2 -0.522997 -1.126751 -0.993989  0.066417  1.807310 -0.163788 -0.516206   \n",
       "row_3  1.398322  1.957880 -1.063461  0.583091  0.597558  0.006984 -0.961922   \n",
       "row_4  0.049917  1.179471 -1.421946  1.117273 -0.090324  0.393800  0.582664   \n",
       "row_5  1.083106  0.412680  0.180670  1.639865 -0.203611  1.947395 -0.329214   \n",
       "\n",
       "          col_7  \n",
       "row_0 -1.433628  \n",
       "row_1 -1.126754  \n",
       "row_2  1.100435  \n",
       "row_3  0.035966  \n",
       "row_4  0.441353  \n",
       "row_5  0.059721  "
      ]
     },
     "execution_count": 12,
     "metadata": {},
     "output_type": "execute_result"
    }
   ],
   "source": [
    "# 自製 test_4\n",
    "\n",
    "data=np.random.randn(6,8)\n",
    "\n",
    "pd_col=['col_0','col_1','col_2','col_3','col_4','col_5','col_6','col_7']\n",
    "pd_index=['row_0','row_1','row_2','row_3','row_4','row_5']\n",
    "my_pd=pd.DataFrame(data=data, index=pd_index, columns=pd_col)\n",
    "my_pd\n",
    "\n",
    "# path_dst='sample folder'\n",
    "# file_name='test_4.csv'\n",
    "\n",
    "# my_pd.to_csv(os.path.join(path_dst,file_name))"
   ]
  },
  {
   "cell_type": "code",
   "execution_count": 13,
   "metadata": {
    "scrolled": true
   },
   "outputs": [
    {
     "name": "stdout",
     "output_type": "stream",
     "text": [
      "以指標擷取:           col_0     col_1     col_2     col_3     col_4     col_5     col_6  \\\n",
      "row_1  0.579202 -0.540397 -0.612996  0.850550 -0.089293 -0.520658 -0.292414   \n",
      "row_3 -0.515762  1.025968 -0.942298 -0.708166 -1.542941  1.244189 -0.466447   \n",
      "\n",
      "          col_7  \n",
      "row_1  1.075836  \n",
      "row_3  1.306040  \n",
      "以row名稱存取:           col_0     col_1     col_2     col_3     col_4     col_5     col_6  \\\n",
      "row_1  0.579202 -0.540397 -0.612996  0.850550 -0.089293 -0.520658 -0.292414   \n",
      "row_3 -0.515762  1.025968 -0.942298 -0.708166 -1.542941  1.244189 -0.466447   \n",
      "\n",
      "          col_7  \n",
      "row_1  1.075836  \n",
      "row_3  1.306040  \n",
      "           col_0     col_1     col_2    col_3     col_4     col_5     col_6  \\\n",
      "row_1   0.579202 -0.540397 -0.612996  0.85055 -0.089293 -0.520658 -0.292414   \n",
      "row_10       NaN       NaN       NaN      NaN       NaN       NaN       NaN   \n",
      "\n",
      "           col_7  \n",
      "row_1   1.075836  \n",
      "row_10       NaN  \n"
     ]
    },
    {
     "name": "stderr",
     "output_type": "stream",
     "text": [
      "C:\\Users\\TMU_AIMC\\Anaconda3\\lib\\site-packages\\ipykernel_launcher.py:19: FutureWarning: \n",
      "Passing list-likes to .loc or [] with any missing label will raise\n",
      "KeyError in the future, you can use .reindex() as an alternative.\n",
      "\n",
      "See the documentation here:\n",
      "https://pandas.pydata.org/pandas-docs/stable/user_guide/indexing.html#deprecate-loc-reindex-listlike\n"
     ]
    }
   ],
   "source": [
    "import pandas as pd\n",
    "import numpy as np\n",
    "\n",
    "path_dst='sample folder'\n",
    "file_name='test_4.csv'\n",
    "data_pd=pd.read_csv(os.path.join(path_dst, file_name), index_col=['Unnamed: 0'])\n",
    "#print(data_pd)\n",
    "\n",
    "# 以 index 指標存取\n",
    "i_row=[1,3]\n",
    "tmp_row=data_pd.iloc[i_row] # iloc 擷取1,3 row\n",
    "print('以指標擷取:',tmp_row)\n",
    "\n",
    "# 以row name存取\n",
    "tmp_row=data_pd.loc[['row_1','row_3']]\n",
    "print('以row名稱存取:',tmp_row)\n",
    "\n",
    "# 存取不存在的 row\n",
    "tmp_row=data_pd.loc[['row_1','row_10']] # 會補上NaN\n",
    "#tmp_row=data_pd.loc[['row_10']] # 會出現錯誤\n",
    "print(tmp_row)"
   ]
  },
  {
   "cell_type": "markdown",
   "metadata": {},
   "source": [
    "# 擷取出特定column的資料"
   ]
  },
  {
   "cell_type": "code",
   "execution_count": 18,
   "metadata": {},
   "outputs": [
    {
     "name": "stdout",
     "output_type": "stream",
     "text": [
      "Index(['col_0', 'col_1', 'col_2', 'col_3', 'col_4', 'col_5', 'col_6', 'col_7'], dtype='object')\n",
      "          col_1     col_3\n",
      "row_0  0.683052  0.284172\n",
      "row_1 -0.540397  0.850550\n",
      "row_2 -0.491199  0.326627\n",
      "row_3  1.025968 -0.708166\n",
      "row_4  0.113539 -0.487705\n",
      "row_5 -0.643289 -0.407638\n",
      "--------------------------------------------\n",
      "column指標存取整行\n",
      ": row_0    0.683052\n",
      "row_1   -0.540397\n",
      "row_2   -0.491199\n",
      "row_3    1.025968\n",
      "row_4    0.113539\n",
      "row_5   -0.643289\n",
      "Name: col_1, dtype: float64\n"
     ]
    },
    {
     "name": "stderr",
     "output_type": "stream",
     "text": [
      "C:\\Users\\TMU_AIMC\\Anaconda3\\lib\\site-packages\\ipykernel_launcher.py:16: FutureWarning: \n",
      ".ix is deprecated. Please use\n",
      ".loc for label based indexing or\n",
      ".iloc for positional indexing\n",
      "\n",
      "See the documentation here:\n",
      "http://pandas.pydata.org/pandas-docs/stable/user_guide/indexing.html#ix-indexer-is-deprecated\n",
      "  app.launch_new_instance()\n"
     ]
    }
   ],
   "source": [
    "path_dst='sample folder'\n",
    "file_name='test_4.csv'\n",
    "data_pd=pd.read_csv(os.path.join(path_dst,file_name), index_col=['Unnamed: 0'])\n",
    "\n",
    "# 以 column名稱來存取\n",
    "i_col=[1,3]\n",
    "column_ls= data_pd.columns\n",
    "print(column_ls)\n",
    "# tmp_col=data_pd[['col_1','col_3']] # 一次抓出 col 1&3 \n",
    "# tmp_col=data_pd[column_ls[1:3]] # 抓出col 1~2\n",
    "tmp_col=data_pd[column_ls[i_col]] \n",
    "print(tmp_col)\n",
    "print('--------------------------------------------')\n",
    "\n",
    "# 以column指標來存取整行\n",
    "tmp_col=data_pd.ix[:,1]  # 座標:   row(:)全都要 + col(1) 第一欄\n",
    "print('column指標存取整行\\n:',tmp_col)\n",
    "\n",
    "# 以column座標來存取特定座標\n",
    "# tmp_col=data_pd.ix[0,1]\n",
    "# print('column指標存取特定座標:',tmp_col)\n",
    "\n",
    "# 以column座標來存取多個特定座標\n",
    "# tmp_col=data_pd.ix[[0,3],[1,5]]\n",
    "# print('column 指標存取多個特定座標\\n',tmp_col)\n",
    "\n",
    "# 存取不存在的column\n",
    "# tmp_col=data_pd[['col_1','col_10']]\n",
    "# print(tmp_col)"
   ]
  },
  {
   "cell_type": "code",
   "execution_count": 19,
   "metadata": {},
   "outputs": [
    {
     "name": "stdout",
     "output_type": "stream",
     "text": [
      "篩選前\n",
      "           col_0     col_1     col_2     col_3     col_4     col_5     col_6  \\\n",
      "row_0  0.201280  0.683052 -0.870426  0.284172  1.596705 -0.817272  1.393547   \n",
      "row_1  0.579202 -0.540397 -0.612996  0.850550 -0.089293 -0.520658 -0.292414   \n",
      "row_2 -1.100655 -0.491199  0.069473  0.326627 -1.004362  1.970052 -1.636990   \n",
      "row_3 -0.515762  1.025968 -0.942298 -0.708166 -1.542941  1.244189 -0.466447   \n",
      "row_4  0.199431  0.113539 -0.968742 -0.487705 -0.029197  1.321976  1.693204   \n",
      "row_5  0.114444 -0.643289  0.152484 -0.407638  1.482708 -1.734580 -1.127212   \n",
      "\n",
      "          col_7  \n",
      "row_0  0.338993  \n",
      "row_1  1.075836  \n",
      "row_2  0.846871  \n",
      "row_3  1.306040  \n",
      "row_4  0.032780  \n",
      "row_5  0.583559  \n",
      "篩選後\n",
      "           col_0     col_1     col_2     col_3     col_4     col_5     col_6  \\\n",
      "row_2 -1.100655 -0.491199  0.069473  0.326627 -1.004362  1.970052 -1.636990   \n",
      "row_3 -0.515762  1.025968 -0.942298 -0.708166 -1.542941  1.244189 -0.466447   \n",
      "row_4  0.199431  0.113539 -0.968742 -0.487705 -0.029197  1.321976  1.693204   \n",
      "\n",
      "          col_7  \n",
      "row_2  0.846871  \n",
      "row_3  1.306040  \n",
      "row_4  0.032780  \n"
     ]
    }
   ],
   "source": [
    "# 利用filter 對 col 的內容進行篩選\n",
    "import pandas as pd\n",
    "import numpy as np\n",
    "\n",
    "path_dst='sample folder'\n",
    "file_name='test_4.csv'\n",
    "data_pd=pd.read_csv(os.path.join(path_dst,file_name), index_col=['Unnamed: 0'])\n",
    "\n",
    "print('篩選前\\n', data_pd)\n",
    "\n",
    "filter=data_pd['col_5']>0  # col_5 >0 \n",
    "filter_data_pd=data_pd[filter]\n",
    "print('篩選後\\n',filter_data_pd)"
   ]
  },
  {
   "cell_type": "markdown",
   "metadata": {},
   "source": [
    "# index 排序"
   ]
  },
  {
   "cell_type": "code",
   "execution_count": 84,
   "metadata": {
    "scrolled": true
   },
   "outputs": [
    {
     "name": "stdout",
     "output_type": "stream",
     "text": [
      "排序前\n",
      "            0         1         2         3\n",
      "13  0.376313  0.967426  0.980646  0.042208\n",
      "77  0.054442  0.687596  0.423910  0.451581\n",
      "89  0.721394  0.937238  0.525293  0.950757\n",
      "51  0.257810  0.520888  0.728436  0.130071\n",
      "67  0.393214  0.663327  0.037633  0.710433\n",
      "33  0.821501  0.237398  0.624805  0.528591\n",
      "50  0.637935  0.688920  0.880990  0.615478\n",
      "87  0.544474  0.715988  0.182631  0.907590\n",
      "19  0.402115  0.805613  0.477434  0.826750\n",
      "排序後\n",
      "            0         1         2         3\n",
      "13  0.376313  0.967426  0.980646  0.042208\n",
      "19  0.402115  0.805613  0.477434  0.826750\n",
      "33  0.821501  0.237398  0.624805  0.528591\n",
      "50  0.637935  0.688920  0.880990  0.615478\n",
      "51  0.257810  0.520888  0.728436  0.130071\n",
      "67  0.393214  0.663327  0.037633  0.710433\n",
      "77  0.054442  0.687596  0.423910  0.451581\n",
      "87  0.544474  0.715988  0.182631  0.907590\n",
      "89  0.721394  0.937238  0.525293  0.950757\n"
     ]
    }
   ],
   "source": [
    "# index 排序\n",
    "import pandas as pd\n",
    "import numpy as np\n",
    "import random\n",
    "\n",
    "row=9\n",
    "col=4\n",
    "idx=random.sample(range(100),row) # 新函數 0~100選出 row個數\n",
    "np.random.shuffle(idx) # 打亂順序\n",
    "\n",
    "cols=np.arange(col)\n",
    "data=np.random.rand(row,col)\n",
    "\n",
    "data_pd=pd.DataFrame(data=data, index=idx, columns=cols)\n",
    "print('排序前\\n',data_pd)\n",
    "\n",
    "data_pd_index_sort=data_pd.sort_index()\n",
    "print('排序後\\n',data_pd_index_sort)"
   ]
  },
  {
   "cell_type": "code",
   "execution_count": 21,
   "metadata": {},
   "outputs": [
    {
     "name": "stdout",
     "output_type": "stream",
     "text": [
      "          0         1         2         3\n",
      "0  0.315741  0.416469  0.236619  0.076139\n",
      "1  0.448476  0.187838  0.831018  0.850042\n",
      "2  0.843850  0.353002  0.101675  0.736845\n",
      "3  0.336209  0.688255  0.954608  0.920481\n",
      "4  0.705551  0.007040  0.734238  0.805673\n",
      "5  0.208398  0.106548  0.866023  0.171734\n",
      "6  0.722273  0.828461  0.785397  0.903312\n",
      "7  0.483842  0.900223  0.396835  0.797396\n",
      "8  0.975282  0.288945  0.964710  0.959022\n",
      "              0         1         2         3\n",
      "count  9.000000  9.000000  9.000000  9.000000\n",
      "mean   0.559958  0.419642  0.652347  0.691183\n",
      "std    0.262715  0.318939  0.322544  0.329608\n",
      "min    0.208398  0.007040  0.101675  0.076139\n",
      "25%    0.336209  0.187838  0.396835  0.736845\n",
      "50%    0.483842  0.353002  0.785397  0.805673\n",
      "75%    0.722273  0.688255  0.866023  0.903312\n",
      "max    0.975282  0.900223  0.964710  0.959022\n"
     ]
    }
   ],
   "source": [
    "# 利用 pandas 對每一個col 處理 sum, mean, median\n",
    "row=9\n",
    "col=4\n",
    "idx=range(row) \n",
    "cols=np.arange(col)\n",
    "\n",
    "data=np.random.rand(row,col)\n",
    "\n",
    "data_pd=pd.DataFrame(data=data, index=idx, columns=cols)\n",
    "print(data_pd)\n",
    "\n",
    "# data_sum=data_pd.sum()\n",
    "# data_mean=data_pd.mean()\n",
    "# data_median=data_pd.median()\n",
    "data_describe=data_pd.describe()\n",
    "# print('sum:\\n',data_sum)\n",
    "# print('mean:\\n',data_mean)\n",
    "# print('median:\\n',data_median)\n",
    "print(data_describe)"
   ]
  }
 ],
 "metadata": {
  "kernelspec": {
   "display_name": "Python 3",
   "language": "python",
   "name": "python3"
  },
  "language_info": {
   "codemirror_mode": {
    "name": "ipython",
    "version": 3
   },
   "file_extension": ".py",
   "mimetype": "text/x-python",
   "name": "python",
   "nbconvert_exporter": "python",
   "pygments_lexer": "ipython3",
   "version": "3.7.3"
  }
 },
 "nbformat": 4,
 "nbformat_minor": 2
}
