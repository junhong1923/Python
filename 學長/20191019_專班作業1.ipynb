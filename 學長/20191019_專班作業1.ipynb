{
 "cells": [
  {
   "cell_type": "code",
   "execution_count": 9,
   "metadata": {},
   "outputs": [
    {
     "name": "stdout",
     "output_type": "stream",
     "text": [
      "{'1': [1, 2, 3], '2': [2, 5, 8], '3': ['123', 'sdfsd'], 1: [789, 321], 1.21: [123, 654]}\n",
      "[2, 5, 8]\n",
      "[789, 321]\n",
      "[123, 654]\n"
     ]
    }
   ],
   "source": [
    "a = [1, 2, 3]\n",
    "b = [2, 5, 8]\n",
    "aa = ['123', 'sdfsd']\n",
    "\n",
    "c = {'1':a, '2':b, '3':aa, 1:[789, 321], 1.21:[123,654]}\n",
    "\n",
    "print(c)\n",
    "\n",
    "print(c['2'])\n",
    "\n",
    "print(c[1])\n",
    "print(c[1.21])"
   ]
  },
  {
   "cell_type": "markdown",
   "metadata": {},
   "source": [
    "# \tQ1. 請問如何產生一個大小維 4*10, 全部都為 1 的矩陣"
   ]
  },
  {
   "cell_type": "code",
   "execution_count": 38,
   "metadata": {},
   "outputs": [
    {
     "name": "stdout",
     "output_type": "stream",
     "text": [
      "(4, 10, 5, 6, 4, 1)\n"
     ]
    }
   ],
   "source": [
    "import numpy as np\n",
    "\n",
    "a = np.ones((4, 10, 5, 6, 4, 1))\n",
    "\n",
    "print(a.shape)"
   ]
  },
  {
   "cell_type": "code",
   "execution_count": 26,
   "metadata": {},
   "outputs": [
    {
     "name": "stdout",
     "output_type": "stream",
     "text": [
      "[[1. 1. 1. 1. 1. 1. 1. 1. 1. 1.]\n",
      " [1. 1. 1. 1. 1. 1. 1. 1. 1. 1.]\n",
      " [1. 1. 1. 1. 1. 1. 1. 1. 1. 1.]\n",
      " [1. 1. 1. 1. 1. 1. 1. 1. 1. 1.]]\n"
     ]
    }
   ],
   "source": [
    "i = np.ones(40)\n",
    "\n",
    "# print(i)\n",
    "\n",
    "\n",
    "a = np.reshape(i, (4, 10))\n",
    "\n",
    "c = i.reshape((4, 10))\n",
    "\n",
    "b = np.arange(10)\n",
    "b\n",
    "\n",
    "print(c)"
   ]
  },
  {
   "cell_type": "code",
   "execution_count": 38,
   "metadata": {},
   "outputs": [
    {
     "name": "stdout",
     "output_type": "stream",
     "text": [
      "[1. 1. 1. 1. 1. 1. 1. 1. 1. 1. 1. 1. 1. 1. 1. 1. 1. 1. 1. 1. 1. 1. 1. 1.\n",
      " 1. 1. 1. 1. 1. 1. 1. 1. 1. 1. 1. 1. 1. 1. 1. 1.]\n"
     ]
    }
   ],
   "source": [
    "a = np.arange(2., 42)\n",
    "b = np.arange(1., 41)\n",
    "\n",
    "c = a-b\n",
    "\n",
    "print(c)"
   ]
  },
  {
   "cell_type": "code",
   "execution_count": 47,
   "metadata": {},
   "outputs": [
    {
     "name": "stdout",
     "output_type": "stream",
     "text": [
      "[[1 1 1 1 1 1 1 1 1 1]\n",
      " [1 1 1 1 1 1 1 1 1 1]\n",
      " [1 1 1 1 1 1 1 1 1 1]\n",
      " [1 1 1 1 1 1 1 1 1 1]]\n"
     ]
    }
   ],
   "source": [
    "a = np.tile(1, (4, 10))\n",
    "\n",
    "print(a)"
   ]
  },
  {
   "cell_type": "code",
   "execution_count": null,
   "metadata": {},
   "outputs": [],
   "source": []
  },
  {
   "cell_type": "code",
   "execution_count": 37,
   "metadata": {
    "scrolled": true
   },
   "outputs": [
    {
     "name": "stdout",
     "output_type": "stream",
     "text": [
      "[[1. 0. 0. 0.]\n",
      " [0. 1. 0. 0.]\n",
      " [0. 0. 1. 0.]\n",
      " [0. 0. 0. 1.]]\n"
     ]
    }
   ],
   "source": [
    "a = np.eye(4)\n",
    "\n",
    "print(a)"
   ]
  },
  {
   "cell_type": "markdown",
   "metadata": {},
   "source": [
    "# a : 2*5\n",
    "# b : 5*2\n",
    "\n",
    "# c = a*b : 2*2"
   ]
  },
  {
   "cell_type": "code",
   "execution_count": 1,
   "metadata": {},
   "outputs": [
    {
     "name": "stdout",
     "output_type": "stream",
     "text": [
      "<class 'int'>\n",
      "<class 'float'>\n",
      "2.0\n",
      "2\n"
     ]
    }
   ],
   "source": [
    "a = 1\n",
    "b = 1.\n",
    "\n",
    "print(type(a))\n",
    "print(type(b))\n",
    "\n",
    "print(a + b)\n",
    "\n",
    "c = a+b+0.8\n",
    "print(int(c))\n"
   ]
  },
  {
   "cell_type": "markdown",
   "metadata": {},
   "source": [
    "# Q2. 請造一個 10 x 5 的矩陣空間，並按由上而下、從左至右、按順序0~49填滿他"
   ]
  },
  {
   "cell_type": "code",
   "execution_count": 61,
   "metadata": {},
   "outputs": [
    {
     "name": "stdout",
     "output_type": "stream",
     "text": [
      "[[ 0 10 20 30 40]\n",
      " [ 1 11 21 31 41]\n",
      " [ 2 12 22 32 42]\n",
      " [ 3 13 23 33 43]\n",
      " [ 4 14 24 34 44]\n",
      " [ 5 15 25 35 45]\n",
      " [ 6 16 26 36 46]\n",
      " [ 7 17 27 37 47]\n",
      " [ 8 18 28 38 48]\n",
      " [ 9 19 29 39 49]]\n",
      "[[ 0  1  2  3  4  5  6  7  8  9]\n",
      " [10 11 12 13 14 15 16 17 18 19]\n",
      " [20 21 22 23 24 25 26 27 28 29]\n",
      " [30 31 32 33 34 35 36 37 38 39]\n",
      " [40 41 42 43 44 45 46 47 48 49]]\n"
     ]
    }
   ],
   "source": [
    "a = np.arange(50)\n",
    "a = np.reshape(a, (5, 10))\n",
    "# a = np.transpose(a)\n",
    "print(a.T)\n",
    "print(a)"
   ]
  },
  {
   "cell_type": "code",
   "execution_count": 20,
   "metadata": {},
   "outputs": [
    {
     "name": "stdout",
     "output_type": "stream",
     "text": [
      "[[ 0 10 20 30 40]\n",
      " [ 1 11 21 31 41]\n",
      " [ 2 12 22 32 42]\n",
      " [ 3 13 23 33 43]\n",
      " [ 4 14 24 34 44]\n",
      " [ 5 15 25 35 45]\n",
      " [ 6 16 26 36 46]\n",
      " [ 7 17 27 37 47]\n",
      " [ 8 18 28 38 48]\n",
      " [ 9 19 29 39 49]]\n"
     ]
    }
   ],
   "source": [
    "b = []\n",
    "for i in range(10):\n",
    "    a = list(range(i, 50, 10))\n",
    "    b.append(a)\n",
    "    \n",
    "# b\n",
    "# a\n",
    "b = np.array(b)\n",
    "print(b)"
   ]
  },
  {
   "cell_type": "code",
   "execution_count": 16,
   "metadata": {},
   "outputs": [
    {
     "name": "stdout",
     "output_type": "stream",
     "text": [
      "[ 0 10 20 30 40]\n",
      "[ 1 11 21 31 41]\n",
      "[ 2 12 22 32 42]\n",
      "[ 3 13 23 33 43]\n",
      "[ 4 14 24 34 44]\n",
      "[ 5 15 25 35 45]\n",
      "[ 6 16 26 36 46]\n",
      "[ 7 17 27 37 47]\n",
      "[ 8 18 28 38 48]\n",
      "[ 9 19 29 39 49]\n"
     ]
    }
   ],
   "source": [
    "\n",
    "\n",
    "\n",
    "for i in range(10):\n",
    "    a = np.arange(i, 50, 10)\n",
    "    \n",
    "    print(a)\n",
    "#    i = i + 100"
   ]
  },
  {
   "cell_type": "code",
   "execution_count": 21,
   "metadata": {},
   "outputs": [
    {
     "name": "stdout",
     "output_type": "stream",
     "text": [
      "0, 10, 20, 30, 40, \n",
      "1, 11, 21, 31, 41, \n",
      "2, 12, 22, 32, 42, \n",
      "3, 13, 23, 33, 43, \n",
      "4, 14, 24, 34, 44, \n",
      "5, 15, 25, 35, 45, \n",
      "6, 16, 26, 36, 46, \n",
      "7, 17, 27, 37, 47, \n",
      "8, 18, 28, 38, 48, \n",
      "9, 19, 29, 39, 49, \n"
     ]
    }
   ],
   "source": [
    "i = 0\n",
    "\n",
    "while(i < 10):\n",
    "    j = 0\n",
    "    \n",
    "    while(j < 5):\n",
    "        \n",
    "        print('%d, ' %((i+10*j)), end = '')\n",
    "        \n",
    "        j += 1\n",
    "    \n",
    "    i += 1\n",
    "    print()"
   ]
  },
  {
   "cell_type": "code",
   "execution_count": 29,
   "metadata": {},
   "outputs": [
    {
     "name": "stdout",
     "output_type": "stream",
     "text": [
      "a + b = 3\n",
      "a + b = 413.135464800\n"
     ]
    }
   ],
   "source": [
    "print('a + b = 3')\n",
    "\n",
    "print('%s + %s = %1.9f' %('a', 'b', 413.1354648))"
   ]
  },
  {
   "cell_type": "code",
   "execution_count": 45,
   "metadata": {},
   "outputs": [
    {
     "name": "stdout",
     "output_type": "stream",
     "text": [
      "[[ 0. 10. 20. 30. 40.]\n",
      " [ 1. 11. 21. 31. 41.]\n",
      " [ 2. 12. 22. 32. 42.]\n",
      " [ 3. 13. 23. 33. 43.]\n",
      " [ 4. 14. 24. 34. 44.]\n",
      " [ 5. 15. 25. 35. 45.]\n",
      " [ 6. 16. 26. 36. 46.]\n",
      " [ 7. 17. 27. 37. 47.]\n",
      " [ 8. 18. 28. 38. 48.]\n",
      " [ 9. 19. 29. 39. 49.]]\n"
     ]
    }
   ],
   "source": [
    "# 特殊寫法!!!\n",
    "a = np.arange(50)\n",
    "\n",
    "mat = np.zeros((10, 5))\n",
    "\n",
    "i_count = 0\n",
    "for i_c in range(5):\n",
    "    for i_r in range(10):\n",
    "        \n",
    "        mat[i_r][i_c] = a[i_count]\n",
    "        \n",
    "        i_count += 1\n",
    "print(mat)"
   ]
  },
  {
   "cell_type": "code",
   "execution_count": 96,
   "metadata": {},
   "outputs": [
    {
     "name": "stdout",
     "output_type": "stream",
     "text": [
      "[[ 0. 10. 20. 30. 40.]\n",
      " [ 1. 11. 21. 31. 41.]\n",
      " [ 2. 12. 22. 32. 42.]\n",
      " [ 3. 13. 23. 33. 43.]\n",
      " [ 4. 14. 24. 34. 44.]\n",
      " [ 5. 15. 25. 35. 45.]\n",
      " [ 6. 16. 26. 36. 46.]\n",
      " [ 7. 17. 27. 37. 47.]\n",
      " [ 8. 18. 28. 38. 48.]\n",
      " [ 9. 19. 29. 39. 49.]]\n"
     ]
    }
   ],
   "source": [
    "a = np.arange(50)\n",
    "\n",
    "row, col = 10, 5 \n",
    "mat = np.zeros((row, col))\n",
    "\n",
    "for i in a:\n",
    "    \n",
    "    i_r = int(i % row)\n",
    "    i_c = int(i / row)\n",
    "    \n",
    "#     print('i_r, i_c: (%1.2f, %1.2f)' %(i_r, i_c))\n",
    "    \n",
    "    mat[i_r][i_c] = i\n",
    "print(mat)"
   ]
  },
  {
   "cell_type": "markdown",
   "metadata": {},
   "source": [
    "# Q4. 以 while 迴圈做出一個九九乘法表"
   ]
  },
  {
   "cell_type": "code",
   "execution_count": 108,
   "metadata": {},
   "outputs": [
    {
     "name": "stdout",
     "output_type": "stream",
     "text": [
      "1x1= 1\t2x1= 2\t3x1= 3\t4x1= 4\t5x1= 5\t6x1= 6\t7x1= 7\t8x1= 8\t9x1= 9\t\n",
      "1x2= 2\t2x2= 4\t3x2= 6\t4x2= 8\t5x2=10\t6x2=12\t7x2=14\t8x2=16\t9x2=18\t\n",
      "1x3= 3\t2x3= 6\t3x3= 9\t4x3=12\t5x3=15\t6x3=18\t7x3=21\t8x3=24\t9x3=27\t\n",
      "1x4= 4\t2x4= 8\t3x4=12\t4x4=16\t5x4=20\t6x4=24\t7x4=28\t8x4=32\t9x4=36\t\n",
      "1x5= 5\t2x5=10\t3x5=15\t4x5=20\t5x5=25\t6x5=30\t7x5=35\t8x5=40\t9x5=45\t\n",
      "1x6= 6\t2x6=12\t3x6=18\t4x6=24\t5x6=30\t6x6=36\t7x6=42\t8x6=48\t9x6=54\t\n",
      "1x7= 7\t2x7=14\t3x7=21\t4x7=28\t5x7=35\t6x7=42\t7x7=49\t8x7=56\t9x7=63\t\n",
      "1x8= 8\t2x8=16\t3x8=24\t4x8=32\t5x8=40\t6x8=48\t7x8=56\t8x8=64\t9x8=72\t\n",
      "1x9= 9\t2x9=18\t3x9=27\t4x9=36\t5x9=45\t6x9=54\t7x9=63\t8x9=72\t9x9=81\t\n"
     ]
    }
   ],
   "source": [
    "i = 1\n",
    "while i < 10:\n",
    "    j = 1\n",
    "    while j < 10:\n",
    "        \n",
    "        print('%dx%d=%2d\\t' %(j, i, j*i), end = '')\n",
    "        \n",
    "        j += 1\n",
    "    \n",
    "    i += 1\n",
    "    print()"
   ]
  },
  {
   "cell_type": "markdown",
   "metadata": {},
   "source": [
    "# Q6. 畫個菱形"
   ]
  },
  {
   "cell_type": "code",
   "execution_count": 55,
   "metadata": {},
   "outputs": [
    {
     "name": "stdout",
     "output_type": "stream",
     "text": [
      "                        *                         \n",
      "                       ***                        \n",
      "                      *****                       \n",
      "                     *******                      \n",
      "                    *********                     \n",
      "                   ***********                    \n",
      "                  *************                   \n",
      "                   ***********                    \n",
      "                    *********                     \n",
      "                     *******                      \n",
      "                      *****                       \n",
      "                       ***                        \n",
      "                        *                         \n"
     ]
    }
   ],
   "source": [
    "row = 12\n",
    "space = 2\n",
    "cent = 50\n",
    "i_count = 1\n",
    "\n",
    "for i in range(row+1):\n",
    "    \n",
    "    print(('*' * i_count).center(cent))\n",
    "    \n",
    "    if i+1 > row/2:\n",
    "        space = -2\n",
    "    \n",
    "    i_count += space\n",
    "\n"
   ]
  },
  {
   "cell_type": "markdown",
   "metadata": {},
   "source": [
    "# 用 1, 2, 3, 4 可以組合出的所有的三位數，每一個位元不重複"
   ]
  },
  {
   "cell_type": "code",
   "execution_count": 121,
   "metadata": {},
   "outputs": [
    {
     "name": "stdout",
     "output_type": "stream",
     "text": [
      "24\n"
     ]
    }
   ],
   "source": [
    "\n",
    "num = 5\n",
    "i_count = 0\n",
    "for x in range(1, num):\n",
    "    for y in range(1, num):\n",
    "        for z in range(1, num):\n",
    "            \n",
    "            if (x != y) and (y != z) and (z != x):\n",
    "#                 print('%d %d %d' %(x, y, z))\n",
    "                i_count += 1\n",
    "print(i_count)"
   ]
  },
  {
   "cell_type": "markdown",
   "metadata": {},
   "source": [
    "# 一個整數， 加上 100 及 268 後都是完全平方數，請問該數是多少"
   ]
  },
  {
   "cell_type": "code",
   "execution_count": 128,
   "metadata": {},
   "outputs": [
    {
     "name": "stdout",
     "output_type": "stream",
     "text": [
      "-99\n",
      "21\n",
      "261\n",
      "1581\n"
     ]
    }
   ],
   "source": [
    "num = 10000\n",
    "\n",
    "for i in range(num):\n",
    "    \n",
    "    val = i**2  # 確定為完全平方數\n",
    "    \n",
    "    val2 = val - 100 + 268\n",
    "    \n",
    "    val2_sqrt = np.sqrt(val2)\n",
    "    \n",
    "    if val2_sqrt == int(val2_sqrt):\n",
    "        \n",
    "        print(val-100)\n",
    "    \n",
    "#     print(val)"
   ]
  },
  {
   "cell_type": "code",
   "execution_count": 62,
   "metadata": {},
   "outputs": [
    {
     "name": "stdout",
     "output_type": "stream",
     "text": [
      "-99\n",
      "21\n",
      "261\n",
      "1581\n"
     ]
    }
   ],
   "source": [
    "for i in range(-100,10000):\n",
    "    x=i+100\n",
    "    y=i+268\n",
    "    if x**0.5==int(x**0.5) and y**0.5==int(y**0.5):\n",
    "        print(i)"
   ]
  },
  {
   "cell_type": "code",
   "execution_count": 57,
   "metadata": {},
   "outputs": [
    {
     "data": {
      "text/plain": [
       "10.0"
      ]
     },
     "execution_count": 57,
     "metadata": {},
     "output_type": "execute_result"
    }
   ],
   "source": [
    "100**0.5"
   ]
  },
  {
   "cell_type": "code",
   "execution_count": 59,
   "metadata": {},
   "outputs": [
    {
     "data": {
      "text/plain": [
       "289"
      ]
     },
     "execution_count": 59,
     "metadata": {},
     "output_type": "execute_result"
    }
   ],
   "source": [
    "21+268"
   ]
  }
 ],
 "metadata": {
  "kernelspec": {
   "display_name": "Python 3",
   "language": "python",
   "name": "python3"
  },
  "language_info": {
   "codemirror_mode": {
    "name": "ipython",
    "version": 3
   },
   "file_extension": ".py",
   "mimetype": "text/x-python",
   "name": "python",
   "nbconvert_exporter": "python",
   "pygments_lexer": "ipython3",
   "version": "3.7.3"
  }
 },
 "nbformat": 4,
 "nbformat_minor": 2
}
